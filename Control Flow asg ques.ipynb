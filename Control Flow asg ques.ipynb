{
 "cells": [
  {
   "cell_type": "code",
   "execution_count": 4,
   "id": "21d6fc5e-7830-4a8f-bd55-3833319c2f9a",
   "metadata": {},
   "outputs": [
    {
     "name": "stdin",
     "output_type": "stream",
     "text": [
      "Enter a number:  55\n"
     ]
    },
    {
     "name": "stdout",
     "output_type": "stream",
     "text": [
      "The entered number is positive.\n"
     ]
    }
   ],
   "source": [
    "#1. Write a Python program to check if a given number is positive or negative.\n",
    "\n",
    "Given_num = float(input(\"Enter a number: \"))\n",
    "\n",
    "if Given_num > 0:\n",
    "    print(\"The entered number is positive.\")\n",
    "elif Given_num < 0:\n",
    "    print(\"The entered number is negative.\")\n",
    "else:\n",
    "    print(\"The entered number is zero.\")"
   ]
  },
  {
   "cell_type": "code",
   "execution_count": 1,
   "id": "3e6979e1-63b8-43ac-93c2-80bd17909a0c",
   "metadata": {},
   "outputs": [
    {
     "name": "stdin",
     "output_type": "stream",
     "text": [
      "Enter your age : 25\n"
     ]
    },
    {
     "name": "stdout",
     "output_type": "stream",
     "text": [
      "You are eligible to vote\n"
     ]
    }
   ],
   "source": [
    "#2. Create a program that determines if a person is eligible to vote based on their age.\n",
    "Age = int(input(\"Enter your age :\"))\n",
    "\n",
    "if 1<=Age<18:\n",
    "          print(\"You are not eligible to vote\")\n",
    "elif Age>=18:\n",
    "          print(\"You are eligible to vote\")\n",
    "else:\n",
    "        print(\"Entered age is not valid\")"
   ]
  },
  {
   "cell_type": "code",
   "execution_count": 15,
   "id": "8614dba8-79fc-4935-8d2b-5df0e92da333",
   "metadata": {},
   "outputs": [
    {
     "name": "stdin",
     "output_type": "stream",
     "text": [
      "Enter the first number:  52\n",
      "Enter the second number:  22\n"
     ]
    },
    {
     "name": "stdout",
     "output_type": "stream",
     "text": [
      "The maximum of 52.0 and 22.0 is: 52.0\n"
     ]
    }
   ],
   "source": [
    "#3. Develop a program to find the maximum of two numbers using if-else statements.\n",
    "\n",
    "num1 = float(input(\"Enter the first number: \"))\n",
    "num2 = float(input(\"Enter the second number: \"))\n",
    "\n",
    "if num1 > num2:\n",
    "    max_num = num1\n",
    "else:\n",
    "    max_num = num2\n",
    "\n",
    "print(f\"The maximum of {num1} and {num2} is: {max_num}\")"
   ]
  },
  {
   "cell_type": "code",
   "execution_count": 19,
   "id": "5dbbab82-3fe7-4a41-9030-c711359f97bb",
   "metadata": {},
   "outputs": [
    {
     "name": "stdin",
     "output_type": "stream",
     "text": [
      "Enter a year:  4\n"
     ]
    },
    {
     "name": "stdout",
     "output_type": "stream",
     "text": [
      "4 is a leap year.\n"
     ]
    }
   ],
   "source": [
    "#4. Write a Python script to classify a given year as a leap year or not.\n",
    "# Input: Get a year from the user\n",
    "year = int(input(\"Enter a year: \"))\n",
    "\n",
    "# Check if the year is a leap year\n",
    "if (year % 4 == 0 and year % 100 != 0) or (year % 400 == 0):\n",
    "    print(f\"{year} is a leap year.\")\n",
    "else:\n",
    "    print(f\"{year} is not a leap year.\")"
   ]
  },
  {
   "cell_type": "code",
   "execution_count": 19,
   "id": "ee9fabfa-4f9b-46c7-90ba-f0fbfdc71346",
   "metadata": {},
   "outputs": [
    {
     "name": "stdin",
     "output_type": "stream",
     "text": [
      "Enter a character:  a\n"
     ]
    },
    {
     "name": "stdout",
     "output_type": "stream",
     "text": [
      "a is a vowel.\n"
     ]
    }
   ],
   "source": [
    "#5. Create a program that checks whether a character is a vowel or a consonant.\n",
    "char = input(\"Enter a character: \")\n",
    "\n",
    "if char.isalpha() and len(char) == 1:\n",
    "    char_lower = char.lower()\n",
    "    if char_lower in \"aeiou\":\n",
    "        print(f\"{char} is a vowel.\")\n",
    "    else:\n",
    "        print(f\"{char} is a consonant.\")\n",
    "else:\n",
    "    print(\"Please enter a valid single character.\")"
   ]
  },
  {
   "cell_type": "code",
   "execution_count": 38,
   "id": "cfa65afd-6a1c-498e-bac4-9fbe739c1524",
   "metadata": {},
   "outputs": [
    {
     "name": "stdin",
     "output_type": "stream",
     "text": [
      "Please enter a number : 554\n"
     ]
    },
    {
     "name": "stdout",
     "output_type": "stream",
     "text": [
      "Entered number is even\n"
     ]
    }
   ],
   "source": [
    "#6. Implement a program to determine whether a given number is even or odd.\n",
    "input_a = input(\"Please enter a number :\")\n",
    "\n",
    "if input_a.isnumeric():\n",
    "    if int(input_a)%2==0:\n",
    "        print(\"Entered number is even\")\n",
    "    else:\n",
    "        print(\"Entered number is odd\")\n",
    "else:\n",
    "    print(\"Please enter a valid single number\")"
   ]
  },
  {
   "cell_type": "code",
   "execution_count": 42,
   "id": "9d74aafc-26ea-410c-85c9-c1f606e09970",
   "metadata": {
    "jp-MarkdownHeadingCollapsed": true,
    "tags": []
   },
   "outputs": [
    {
     "name": "stdin",
     "output_type": "stream",
     "text": [
      "Enter a number:  -10\n"
     ]
    },
    {
     "name": "stdout",
     "output_type": "stream",
     "text": [
      "The absolute value of -10.0 is 10.0.\n"
     ]
    }
   ],
   "source": [
    "#7. Write a Python function to calculate the absolute value of a number without using the `abs()` function.\n",
    "def absolute_value(number):\n",
    "    if number < 0:\n",
    "        return -number\n",
    "    else:\n",
    "        return number\n",
    "\n",
    "user_input = float(input(\"Enter a number: \"))\n",
    "result = absolute_value(user_input)\n",
    "print(f\"The absolute value of {user_input} is {result}.\")"
   ]
  },
  {
   "cell_type": "code",
   "execution_count": 44,
   "id": "e7dfa1bb-5e41-4344-904d-f58bd66cfe90",
   "metadata": {},
   "outputs": [
    {
     "name": "stdin",
     "output_type": "stream",
     "text": [
      "Enter the first number:  5\n",
      "Enter the second number:  6\n",
      "Enter the third number:  10\n"
     ]
    },
    {
     "name": "stdout",
     "output_type": "stream",
     "text": [
      "The largest number among 5.0, 6.0, and 10.0 is 10.0.\n"
     ]
    }
   ],
   "source": [
    "#8. Develop a program that determines the largest of three given numbers using if-else statements.\n",
    "\n",
    "def find_largest(num1, num2, num3):\n",
    "    if num1 >= num2 and num1 >= num3:\n",
    "        return num1\n",
    "    elif num2 >= num1 and num2 >= num3:\n",
    "        return num2\n",
    "    else:\n",
    "        return num3\n",
    "\n",
    "num1 = float(input(\"Enter the first number: \"))\n",
    "num2 = float(input(\"Enter the second number: \"))\n",
    "num3 = float(input(\"Enter the third number: \"))\n",
    "\n",
    "largest = find_largest(num1, num2, num3)\n",
    "print(f\"The largest number among {num1}, {num2}, and {num3} is {largest}.\")"
   ]
  },
  {
   "cell_type": "code",
   "execution_count": 53,
   "id": "69e1c510-7512-4103-94c3-9ca2e24039be",
   "metadata": {},
   "outputs": [
    {
     "name": "stdin",
     "output_type": "stream",
     "text": [
      "Enter a text : a cat tac a\n"
     ]
    },
    {
     "name": "stdout",
     "output_type": "stream",
     "text": [
      "String is palindrome\n"
     ]
    }
   ],
   "source": [
    "#9. Create a program that checks if a given string is a palindrome.\n",
    "input_str = input(\"Enter a text :\")\n",
    "\"\".join(input_str.lower())\n",
    "input_str\n",
    "if input_str == input_str[::-1]:\n",
    "    print(\"String is palindrome\")\n",
    "else:\n",
    "    print(\"string is not palindrome\")"
   ]
  },
  {
   "cell_type": "code",
   "execution_count": 63,
   "id": "d6b3c3b0-c5ca-4b55-8faf-69175f08db24",
   "metadata": {},
   "outputs": [
    {
     "name": "stdin",
     "output_type": "stream",
     "text": [
      "Enter your score:  99\n"
     ]
    },
    {
     "name": "stdout",
     "output_type": "stream",
     "text": [
      "Your grade is: A\n"
     ]
    }
   ],
   "source": [
    "#10. Write a Python program to calculate the grade based on a student's score.\n",
    "def calculate_grade(score):\n",
    "    if 90 <= score <= 100:\n",
    "        return 'A'\n",
    "    elif 80 <= score < 90:\n",
    "        return 'B'\n",
    "    elif 70 <= score < 80:\n",
    "        return 'C'\n",
    "    elif 60 <= score < 70:\n",
    "        return 'D'\n",
    "    elif 0 <= score < 60:\n",
    "        return 'F'\n",
    "    else:\n",
    "        return 'Invalid Score'\n",
    "\n",
    "\n",
    "try:\n",
    "    score = float(input(\"Enter your score: \"))\n",
    "    if 0 <= score <= 100:\n",
    "        grade = calculate_grade(score)\n",
    "        print(f\"Your grade is: {grade}\")\n",
    "    else:\n",
    "        print(\"Invalid score. Please enter a score between 0 and 100.\")\n",
    "except ValueError:\n",
    "    print(\"Invalid input. Please enter a numeric value.\")"
   ]
  },
  {
   "cell_type": "markdown",
   "id": "7f6c0959-d559-4e9e-8256-e8861f3b19b4",
   "metadata": {},
   "source": [
    "Nested If-Else Statements:"
   ]
  },
  {
   "cell_type": "code",
   "execution_count": 64,
   "id": "a6fb5d73-30a7-4283-91c2-42cbbd287b5e",
   "metadata": {},
   "outputs": [
    {
     "name": "stdin",
     "output_type": "stream",
     "text": [
      "Enter the first number:  45\n",
      "Enter the second number:  68\n",
      "Enter the third number:  25\n"
     ]
    },
    {
     "name": "stdout",
     "output_type": "stream",
     "text": [
      "The largest number among 45.0, 68.0, and 25.0 is 68.0.\n"
     ]
    }
   ],
   "source": [
    "#11. Write a program to find the largest among three numbers using nested if-else statements.\n",
    "def find_largest(num1, num2, num3):\n",
    "    if num1 >= num2:\n",
    "        if num1 >= num3:\n",
    "            return num1\n",
    "        else:\n",
    "            return num3\n",
    "    else:\n",
    "        if num2 >= num3:\n",
    "            return num2\n",
    "        else:\n",
    "            return num3\n",
    "\n",
    "num1 = float(input(\"Enter the first number: \"))\n",
    "num2 = float(input(\"Enter the second number: \"))\n",
    "num3 = float(input(\"Enter the third number: \"))\n",
    "\n",
    "largest = find_largest(num1, num2, num3)\n",
    "print(f\"The largest number among {num1}, {num2}, and {num3} is {largest}.\")"
   ]
  },
  {
   "cell_type": "code",
   "execution_count": 12,
   "id": "08f53792-10ea-493c-b27a-752ca5ba2246",
   "metadata": {},
   "outputs": [
    {
     "name": "stdin",
     "output_type": "stream",
     "text": [
      "Enter a first value : 5\n",
      "Enter a second value : 5\n",
      "Enter a third value : 10\n"
     ]
    },
    {
     "name": "stdout",
     "output_type": "stream",
     "text": [
      "Isosceles Triangle\n"
     ]
    }
   ],
   "source": [
    "#12. Implement a program to determine if a triangle is equilateral, isosceles, or scalene.\n",
    "def classify_triangle(value1,value2,value3):\n",
    "    if value1==value2==value3:\n",
    "        return \"Equilateral\"\n",
    "    elif value1==value2 or value1==value3 or value2==value3:\n",
    "        return \"Isosceles\"\n",
    "    else:\n",
    "        return \"Scalene\"\n",
    "\n",
    "try:\n",
    "    value1 = float(input(\"Enter a first value :\"))\n",
    "    value2 = float(input(\"Enter a second value :\"))\n",
    "    value3 = float(input(\"Enter a third value :\"))\n",
    "    \n",
    "    if value1>0 and value2>0 and value3>0:\n",
    "        triangle = classify_triangle(value1,value2,value3)\n",
    "        print(triangle,\"Triangle\")\n",
    "    else:\n",
    "        print(\"Please enter a positive value\")\n",
    "except ValueError:\n",
    "    print(\"Invalid input. Please enter numeric values for side lengths.\")"
   ]
  },
  {
   "cell_type": "code",
   "execution_count": 13,
   "id": "9c6301f8-dee9-4dd4-bb26-ff7ceb01bbee",
   "metadata": {},
   "outputs": [
    {
     "name": "stdin",
     "output_type": "stream",
     "text": [
      "Enter a year : 2100\n"
     ]
    },
    {
     "name": "stdout",
     "output_type": "stream",
     "text": [
      "The year is not 'Leap year'\n",
      "The year is 'Century year'\n"
     ]
    }
   ],
   "source": [
    "#13. Develop a program that checks if a year is a leap year and also if it is a century year.\n",
    "\n",
    "try:\n",
    "    year = int(input(\"Enter a year :\"))\n",
    "    \n",
    "    if year>0:\n",
    "            if year%4==0 and year%100!=0 or year%400==0:\n",
    "                print(\"The year is 'Leap year'\")\n",
    "            else:\n",
    "                 print(\"The year is not 'Leap year'\")\n",
    "    else:\n",
    "        print(\"please enter positive year\")\n",
    "    if year%100==0:\n",
    "        print(\"The year is 'Century year'\")\n",
    "    \n",
    "except ValueError:\n",
    "    print(\"please enter only numbers\")"
   ]
  },
  {
   "cell_type": "code",
   "execution_count": 25,
   "id": "e7ca2b51-33a2-40a5-9ce3-ec6dfcdb0da6",
   "metadata": {},
   "outputs": [
    {
     "name": "stdin",
     "output_type": "stream",
     "text": [
      "Please enter a number:  -1\n"
     ]
    },
    {
     "name": "stdout",
     "output_type": "stream",
     "text": [
      "Number is negative\n"
     ]
    }
   ],
   "source": [
    "#14. Write a Python script to determine if a number is positive, negative, or zero.\n",
    "def check_num(number):\n",
    "    if number < 0:\n",
    "        print(\"Number is negative\")\n",
    "    elif number > 0:\n",
    "        print(\"Number is positive\")\n",
    "    else:\n",
    "        print(\"Number is Zero\")\n",
    "\n",
    "try:\n",
    "    input_num = int(input(\"Please enter a number: \"))\n",
    "    check_num(input_num)\n",
    "except ValueError:\n",
    "    print(\"Invalid input. Please enter a valid numeric value.\")"
   ]
  },
  {
   "cell_type": "code",
   "execution_count": 14,
   "id": "2018fc4d-7986-476f-9d98-dd98722cd99e",
   "metadata": {},
   "outputs": [
    {
     "name": "stdin",
     "output_type": "stream",
     "text": [
      "Enter a person age : 13\n"
     ]
    },
    {
     "name": "stdout",
     "output_type": "stream",
     "text": [
      "Person is teenager\n"
     ]
    }
   ],
   "source": [
    "#15. Create a program to check if a person is a teenager (between 13 and 19 years old).\n",
    "def check_teen(age):\n",
    "        if 0<=age<=12:\n",
    "            print(\"Person is child\")\n",
    "        elif 13<=age<=19:\n",
    "            print(\"Person is teenager\")\n",
    "        else:\n",
    "                print(\"Person is not teenger\")\n",
    "\n",
    "try:\n",
    "    input_age = int(input(\"Enter a person age :\"))\n",
    "    check_teen(input_age)\n",
    "except ValueError:\n",
    "    print(\"Invalid input, please enter a valid numeric value\")"
   ]
  },
  {
   "cell_type": "code",
   "execution_count": 23,
   "id": "7af6b10e-b496-4f9a-857f-3d84cbeb09cd",
   "metadata": {},
   "outputs": [
    {
     "name": "stdin",
     "output_type": "stream",
     "text": [
      "Enter a angle 90\n"
     ]
    },
    {
     "name": "stdout",
     "output_type": "stream",
     "text": [
      "The angle is Right Angle\n"
     ]
    }
   ],
   "source": [
    "#16. Develop a program that determines the type of angle based on its measure (acute, obtuse, or right).\n",
    "def check_angle(angle):\n",
    "        if 0<angle<90:\n",
    "            print(\"The angle is Acute angle\")\n",
    "        \n",
    "        elif angle ==90:\n",
    "            print(\"The angle is Right Angle\")\n",
    "        \n",
    "        elif 90<angle<180:\n",
    "            print(\"The Angle is Obtuse Angle\")\n",
    "        \n",
    "        else:\n",
    "            print(\"Enter a Valid angle\")\n",
    "try:\n",
    "    input_angle = int(input(\"Enter a angle\"))\n",
    "    check_angle(input_angle)\n",
    "except ValueError:\n",
    "    print(\"Invalid input, please enter a valid numeric value\")"
   ]
  },
  {
   "cell_type": "code",
   "execution_count": 30,
   "id": "f3a7a887-f7c6-4480-9e25-48ba28fd8850",
   "metadata": {},
   "outputs": [
    {
     "name": "stdin",
     "output_type": "stream",
     "text": [
      "Enter the coefficient a:  2\n",
      "Enter the coefficient b:  8\n",
      "Enter the coefficient c:  256\n"
     ]
    },
    {
     "name": "stdout",
     "output_type": "stream",
     "text": [
      "Roots: ((-2+11.135528725660043j), (-2-11.135528725660043j))\n"
     ]
    }
   ],
   "source": [
    "#17. Write a Python program to calculate the roots of a quadratic equation.\n",
    "import math\n",
    "\n",
    "def calculate_roots(a, b, c):\n",
    "    # Calculate the discriminant\n",
    "    discriminant = b**2 - 4*a*c\n",
    "\n",
    "    # Check if the discriminant is positive, negative, or zero\n",
    "    if discriminant > 0:\n",
    "        # Two real and distinct roots\n",
    "        root1 = (-b + math.sqrt(discriminant)) / (2*a)\n",
    "        root2 = (-b - math.sqrt(discriminant)) / (2*a)\n",
    "        return root1, root2\n",
    "    elif discriminant == 0:\n",
    "        # One real root (double root)\n",
    "        root = -b / (2*a)\n",
    "        return root,\n",
    "    else:\n",
    "        # Complex roots\n",
    "        real_part = -b / (2*a)\n",
    "        imaginary_part = math.sqrt(abs(discriminant)) / (2*a)\n",
    "        root1 = complex(real_part, imaginary_part)\n",
    "        root2 = complex(real_part, -imaginary_part)\n",
    "        return root1, root2\n",
    "\n",
    "# Input coefficients from the user\n",
    "a = float(input(\"Enter the coefficient a: \"))\n",
    "b = float(input(\"Enter the coefficient b: \"))\n",
    "c = float(input(\"Enter the coefficient c: \"))\n",
    "\n",
    "# Calculate and display the roots\n",
    "roots = calculate_roots(a, b, c)\n",
    "print(\"Roots:\", roots)"
   ]
  },
  {
   "cell_type": "code",
   "execution_count": 38,
   "id": "36acc7b7-e218-4e8e-b6c7-020a24490743",
   "metadata": {},
   "outputs": [
    {
     "name": "stdin",
     "output_type": "stream",
     "text": [
      "Enter a number : 7\n"
     ]
    },
    {
     "name": "stdout",
     "output_type": "stream",
     "text": [
      "It is Sunday\n"
     ]
    }
   ],
   "source": [
    "#18. Implement a program to determine the day of the week based on a user-provided number (1 for Monday, 2\n",
    "#for Tuesday, etc.).\n",
    "\n",
    "def check_day(num):\n",
    "    if num == 1:\n",
    "        print(\"It is Monday\")\n",
    "    elif num == 2:\n",
    "        print(\"It is Tuesday\")\n",
    "    elif num == 3:\n",
    "        print(\"It is Wednesday\")\n",
    "    elif num == 4:\n",
    "        print(\"It is Thursday \")\n",
    "    elif num == 5:\n",
    "        print(\"It is Friday\")\n",
    "    elif num == 6:\n",
    "        print(\"It is Saturday\")\n",
    "    elif num == 7:\n",
    "        print(\"It is Sunday\")\n",
    "    else:\n",
    "        print(\"Enter a Valid numeric value\")\n",
    "    \n",
    "try:\n",
    "    input_num = int(input(\"Enter a number :\"))\n",
    "    check_day(input_num)\n",
    "except ValueError :\n",
    "    print(\"Enter a Valid numeric value\")"
   ]
  },
  {
   "cell_type": "code",
   "execution_count": 17,
   "id": "639ea397-07c4-41f9-82b7-738c4da6c74a",
   "metadata": {},
   "outputs": [
    {
     "name": "stdin",
     "output_type": "stream",
     "text": [
      "Enter a year : 2024\n"
     ]
    },
    {
     "name": "stdout",
     "output_type": "stream",
     "text": [
      "2024 is a leap year.\n"
     ]
    }
   ],
   "source": [
    "#19. Create a program that determines if a year is a leap year and also if it is evenly divisible by 400.\n",
    "def check_year(year):\n",
    "    if (year%4==0 and year%100!=0) or year%400 == 0:\n",
    "        return True\n",
    "    else:\n",
    "        return False\n",
    "    \n",
    "input_year =int(input(\"Enter a year :\"))\n",
    "\n",
    "result = check_year(input_year)\n",
    "\n",
    "if result :\n",
    "    print(input_year,\"is a leap year.\")\n",
    "else :\n",
    "    print(input_year,\"is not a leap year.\")"
   ]
  },
  {
   "cell_type": "code",
   "execution_count": 31,
   "id": "a8721644-4c91-4b1d-8f6f-a755eb56e075",
   "metadata": {},
   "outputs": [
    {
     "name": "stdin",
     "output_type": "stream",
     "text": [
      "Input a Number 241\n"
     ]
    },
    {
     "name": "stdout",
     "output_type": "stream",
     "text": [
      "241 Is prime number \n"
     ]
    }
   ],
   "source": [
    "#20. Develop a program that checks if a given number is prime or not using nested if-else statements.\n",
    "def check_prime(number):\n",
    "    if number > 1 :\n",
    "        \n",
    "        for i in range(2,int(number**0.5)+1):\n",
    "            \n",
    "            if number%i==0:\n",
    "                print(number, \"is not prime number\")\n",
    "                break\n",
    "        else:\n",
    "            print(number, \"Is prime number \")\n",
    "    else:\n",
    "        print(number, \"Is not prime number \")\n",
    "\n",
    "input_num = int(input(\"Input a Number\"))\n",
    "result = check_prime(input_num)"
   ]
  },
  {
   "cell_type": "code",
   "execution_count": 38,
   "id": "c09a7f08-02f7-47de-9c68-bd303ac22305",
   "metadata": {},
   "outputs": [
    {
     "name": "stdin",
     "output_type": "stream",
     "text": [
      "Enter the Marks : 99\n"
     ]
    },
    {
     "name": "stdout",
     "output_type": "stream",
     "text": [
      "A Grade\n"
     ]
    }
   ],
   "source": [
    "#21. Write a Python program to assign grades based on different ranges of scores using elif statements.\n",
    "def check_grade(marks): \n",
    "    if 0<=marks<=59:\n",
    "        print (\"F Grade\")\n",
    "    elif 60<=marks<=69:\n",
    "        print(\"D Grade\")\n",
    "    elif 70<=marks<=79:\n",
    "        print(\"C Grade\")\n",
    "    elif 80<=marks<=89:\n",
    "        print(\"B Grade\")\n",
    "    elif 90<=marks<=100:\n",
    "        print(\"A Grade\")\n",
    "    else:\n",
    "        print(\"Given marks is out of range or not valid\")\n",
    "try:\n",
    "    input_ = int(input(\"Enter the Marks :\"))\n",
    "    result = check_grade(input_)\n",
    "except ValueError:\n",
    "    print(\"Given marks is out of range or not valid\")"
   ]
  },
  {
   "cell_type": "code",
   "execution_count": 39,
   "id": "38c9b85a-cfb3-4389-9afc-bd029ae5fe3a",
   "metadata": {},
   "outputs": [
    {
     "name": "stdin",
     "output_type": "stream",
     "text": [
      "Enter the first angle:  40\n",
      "Enter the second angle:  50\n",
      "Enter the third angle:  90\n"
     ]
    },
    {
     "name": "stdout",
     "output_type": "stream",
     "text": [
      "The triangle is a Right-angled Triangle\n"
     ]
    }
   ],
   "source": [
    "#22. Implement a program to determine the type of a triangle based on its angles.\n",
    "def triangle_type(angle1, angle2, angle3):\n",
    "    # Check if the angles form a valid triangle\n",
    "    if angle1 + angle2 + angle3 == 180 and angle1 > 0 and angle2 > 0 and angle3 > 0:\n",
    "        # Classify the triangle based on its angles\n",
    "        if angle1 == angle2 == angle3:\n",
    "            return \"Equilateral Triangle\"\n",
    "        elif angle1 == 90 or angle2 == 90 or angle3 == 90:\n",
    "            return \"Right-angled Triangle\"\n",
    "        elif angle1 > 90 or angle2 > 90 or angle3 > 90:\n",
    "            return \"Obtuse-angled Triangle\"\n",
    "        else:\n",
    "            return \"Acute-angled Triangle\"\n",
    "    else:\n",
    "        return \"Invalid Triangle\"\n",
    "\n",
    "# Example usage:\n",
    "angle1 = float(input(\"Enter the first angle: \"))\n",
    "angle2 = float(input(\"Enter the second angle: \"))\n",
    "angle3 = float(input(\"Enter the third angle: \"))\n",
    "\n",
    "result = triangle_type(angle1, angle2, angle3)\n",
    "print(\"The triangle is a\", result)"
   ]
  },
  {
   "cell_type": "code",
   "execution_count": 44,
   "id": "4a520691-900c-4863-98bb-7d41b9a64086",
   "metadata": {},
   "outputs": [
    {
     "name": "stdin",
     "output_type": "stream",
     "text": [
      "Enter a person's Height in MTR : 1.5\n",
      "Enter a person's Weight in KG : 40\n"
     ]
    },
    {
     "name": "stdout",
     "output_type": "stream",
     "text": [
      "Person is Under weight\n"
     ]
    }
   ],
   "source": [
    "#23. Develop a program to categorize a given person's BMI into underweight, normal, overweight, or obese using elif statements.\n",
    "def check_bmi(height,weight):\n",
    "    if 0<weight/height**2<18.5:\n",
    "        print(\"Person is Under weight\")\n",
    "    elif 18.5<weight/height**2<24.9:\n",
    "        print(\"Person is normal\")\n",
    "    elif 25<=weight/height**2<=29.9:\n",
    "        print(\"Person is Overweight\")\n",
    "    elif 30<=weight/height**2<=34.9:\n",
    "        print(\"Person is Obese\")\n",
    "    else:\n",
    "        print(\"Enter a valid Height and Weight\")\n",
    "        \n",
    "try: \n",
    "    input_1 = float(input(\"Enter a person's Height in MTR :\"))\n",
    "    input_2 = float(input(\"Enter a person's Weight in KG :\"))\n",
    "    result = check_bmi(input_1,input_2)\n",
    "except ValueError :\n",
    "    print(\"Please enter valid height and weight\")"
   ]
  },
  {
   "cell_type": "code",
   "execution_count": 49,
   "id": "a4ae803d-94d5-401f-9f0b-1cdd16b0e50f",
   "metadata": {},
   "outputs": [
    {
     "name": "stdin",
     "output_type": "stream",
     "text": [
      "Enter a number : 1.5\n"
     ]
    },
    {
     "name": "stdout",
     "output_type": "stream",
     "text": [
      "Number is Postive\n"
     ]
    }
   ],
   "source": [
    "#24. Create a program that determines whether a given number is positive, negative, or zero using elif statements.\n",
    "def check_number(number):\n",
    "    if number<0 :\n",
    "        print(\"Number is Nagative\")\n",
    "    elif number == 0:\n",
    "        print(\"Number is Zero\")\n",
    "    elif number>0:\n",
    "        print(\"Number is Postive\")\n",
    "    else:\n",
    "        print(\"Invalid number \")\n",
    "input_num = float(input(\"Enter a number :\"))\n",
    "result = check_number(input_num)"
   ]
  },
  {
   "cell_type": "code",
   "execution_count": 1,
   "id": "e91541fe-45da-410c-87c7-8e884111ee2a",
   "metadata": {},
   "outputs": [
    {
     "name": "stdin",
     "output_type": "stream",
     "text": [
      "Enter a character : A\n"
     ]
    },
    {
     "name": "stdout",
     "output_type": "stream",
     "text": [
      "Character is Uppercase.\n"
     ]
    }
   ],
   "source": [
    "#25. Write a Python script to determine the type of a character (uppercase, lowercase, or special) using elif statements.\n",
    "def check_char(character):\n",
    "    if len(character) == 1:\n",
    "        if character.isupper():\n",
    "            print(\"Character is Uppercase.\")\n",
    "        elif character.islower():\n",
    "            print(\"Character is Lowercase.\")\n",
    "        else:\n",
    "             print(\"Character is Special Character\")\n",
    "    else:\n",
    "        print(\"Please enter a single charcter\")\n",
    "\n",
    "input_ = str(input(\"Enter a character :\"))\n",
    "result = check_char(input_)"
   ]
  },
  {
   "cell_type": "code",
   "execution_count": 21,
   "id": "be70a8af-b4d1-494c-868c-0e5697c5d6c4",
   "metadata": {},
   "outputs": [
    {
     "name": "stdin",
     "output_type": "stream",
     "text": [
      "Enter a purchase amount 100\n"
     ]
    },
    {
     "name": "stdout",
     "output_type": "stream",
     "text": [
      "Disscounted price is 90.0\n"
     ]
    }
   ],
   "source": [
    "#26. Implement a program to calculate the discounted price based on different purchase amounts using elif statements.\n",
    "def calculate_discount(amount):\n",
    "    if 0<=amount<=100:\n",
    "        print(\"Disscounted price is\",amount-amount*10/100)\n",
    "    elif 101<=amount<=200:\n",
    "        print(\"Disscounted price is\",amount-amount*20/100)\n",
    "    elif 201<=amount<=300:\n",
    "        print(\"Disscounted price is\",amount-amount*30/100)\n",
    "    else :\n",
    "        print(\"Disscounted price is\",amount-amount*40/100)\n",
    "\n",
    "input_ = int(input(\"Enter a purchase amount\"))\n",
    "result = calculate_discount(input_)"
   ]
  },
  {
   "cell_type": "code",
   "execution_count": 26,
   "id": "9cff6516-3e76-4590-ab75-57e08a367e37",
   "metadata": {},
   "outputs": [
    {
     "name": "stdin",
     "output_type": "stream",
     "text": [
      "Enter a electricity consumption in unit 200\n"
     ]
    },
    {
     "name": "stdout",
     "output_type": "stream",
     "text": [
      "Total bill amount  2000\n"
     ]
    }
   ],
   "source": [
    "#27. Develop a program to calculate the electricity bill based on different consumption slabs using elif statements.\n",
    "def check_bill(consumption):\n",
    "    if consumption >0:\n",
    "        if 0<consumption <=100:\n",
    "            print(\"Total bill amount \",consumption *5)\n",
    "        elif 101<=consumption <=200:\n",
    "            print(\"Total bill amount \",consumption *10)\n",
    "        elif 201<=consumption <=300:\n",
    "            print(\"Total bill amount \",consumption *12)\n",
    "        elif 301<=consumption <=400:\n",
    "            print(\"Total bill amount \",consumption *15)\n",
    "        else :\n",
    "            print(\"Total bill amount \",consumption *20)\n",
    "    else :\n",
    "        print(\"Please enter a valid consumption\")\n",
    "\n",
    "input_ = int(input(\"Enter a electricity consumption in unit\"))\n",
    "result = check_bill(input_)"
   ]
  },
  {
   "cell_type": "code",
   "execution_count": 27,
   "id": "3aec7afa-a076-4e4a-b4d8-7429177d0728",
   "metadata": {},
   "outputs": [
    {
     "name": "stdin",
     "output_type": "stream",
     "text": [
      "Enter the first angle:  40\n",
      "Enter the second angle:  20\n",
      "Enter the third angle:  120\n",
      "Enter the fourth angle:  180\n",
      "Enter the length of the first side:  20\n",
      "Enter the length of the second side:  10\n",
      "Enter the length of the third side:  5\n",
      "Enter the length of the fourth side:  2.5\n"
     ]
    },
    {
     "name": "stdout",
     "output_type": "stream",
     "text": [
      "The given quadrilateral is a Quadrilateral.\n"
     ]
    }
   ],
   "source": [
    "#28. Create a program to determine the type of quadrilateral based on its angles and sides using elif statements.\n",
    "def determine_quadrilateral_type(angle1, angle2, angle3, angle4, side1, side2, side3, side4):\n",
    "    if angle1 + angle2 + angle3 + angle4 == 360:\n",
    "        if side1 == side2 == side3 == side4:\n",
    "            if angle1 == angle2 == angle3 == angle4:\n",
    "                return \"Square\"\n",
    "            elif angle1 == angle3 and angle2 == angle4:\n",
    "                return \"Rectangle\"\n",
    "            else:\n",
    "                return \"Rhombus\"\n",
    "        elif side1 == side3 and side2 == side4:\n",
    "            return \"Parallelogram\"\n",
    "        else:\n",
    "            return \"Quadrilateral\"\n",
    "    else:\n",
    "        return \"Invalid Quadrilateral\"\n",
    "\n",
    "# Example usage:\n",
    "angle1 = float(input(\"Enter the first angle: \"))\n",
    "angle2 = float(input(\"Enter the second angle: \"))\n",
    "angle3 = float(input(\"Enter the third angle: \"))\n",
    "angle4 = float(input(\"Enter the fourth angle: \"))\n",
    "side1 = float(input(\"Enter the length of the first side: \"))\n",
    "side2 = float(input(\"Enter the length of the second side: \"))\n",
    "side3 = float(input(\"Enter the length of the third side: \"))\n",
    "side4 = float(input(\"Enter the length of the fourth side: \"))\n",
    "\n",
    "quadrilateral_type = determine_quadrilateral_type(angle1, angle2, angle3, angle4, side1, side2, side3, side4)\n",
    "\n",
    "print(f\"The given quadrilateral is a {quadrilateral_type}.\")"
   ]
  },
  {
   "cell_type": "code",
   "execution_count": 32,
   "id": "7b8e5fb1-fa86-430b-aa2d-6ec444a6366b",
   "metadata": {},
   "outputs": [
    {
     "name": "stdin",
     "output_type": "stream",
     "text": [
      "Enter a month : 1\n"
     ]
    },
    {
     "name": "stdout",
     "output_type": "stream",
     "text": [
      "It is Winter\n"
     ]
    }
   ],
   "source": [
    "#29. Write a Python script to determine the season based on a user-provided month using elif statements.\n",
    "def check_season(month):\n",
    "    if 3<=month <=6:\n",
    "        print(\"It is Summer\")\n",
    "    elif 7<=month <=10:\n",
    "        print(\"It is Monsoon\")\n",
    "    elif 11<=month<=12 or 1<=month<=2:\n",
    "        print(\"It is Winter\")\n",
    "    else:\n",
    "        print(\"Please enter valid month\")\n",
    "input_A = int(input(\"Enter a month :\"))\n",
    "result = check_season(input_A)"
   ]
  },
  {
   "cell_type": "code",
   "execution_count": 35,
   "id": "4a5a1354-e2fb-49cc-bcb1-fe91a1b1238a",
   "metadata": {},
   "outputs": [
    {
     "name": "stdin",
     "output_type": "stream",
     "text": [
      "Enter the year:  2024\n",
      "Enter the month (as a number between 1 and 12):  1\n"
     ]
    },
    {
     "name": "stdout",
     "output_type": "stream",
     "text": [
      "2024 is a leap year.\n",
      "The month 1 has 31 days.\n"
     ]
    }
   ],
   "source": [
    "#30. Implement a program to determine the type of a year (leap or common) and month (30 or 31 days) using elif statements.\n",
    "def is_leap_year(year):\n",
    "    if (year % 4 == 0 and year % 100 != 0) or (year % 400 == 0):\n",
    "        return True\n",
    "    else:\n",
    "        return False\n",
    "\n",
    "def determine_days_in_month(month, year):\n",
    "    if month in [1, 3, 5, 7, 8, 10, 12]:\n",
    "        return 31\n",
    "    elif month in [4, 6, 9, 11]:\n",
    "        return 30\n",
    "    elif month == 2:\n",
    "        if is_leap_year(year):\n",
    "            return 29\n",
    "        else:\n",
    "            return 28\n",
    "    else:\n",
    "        return -1  # Invalid month\n",
    "\n",
    "# Example usage:\n",
    "year = int(input(\"Enter the year: \"))\n",
    "month = int(input(\"Enter the month (as a number between 1 and 12): \"))\n",
    "\n",
    "if month >= 1 and month <= 12:\n",
    "    days_in_month = determine_days_in_month(month, year)\n",
    "    \n",
    "    if days_in_month == -1:\n",
    "        print(\"Invalid month. Please enter a valid month.\")\n",
    "    else:\n",
    "        leap_year_type = \"leap\" if is_leap_year(year) else \"common\"\n",
    "        print(f\"{year} is a {leap_year_type} year.\")\n",
    "        print(f\"The month {month} has {days_in_month} days.\")\n",
    "else:\n",
    "    print(\"Invalid month. Please enter a valid month.\")"
   ]
  },
  {
   "cell_type": "markdown",
   "id": "927de339-3746-4792-a8b5-b51cf0c0fba8",
   "metadata": {},
   "source": [
    "Basic Level:"
   ]
  },
  {
   "cell_type": "code",
   "execution_count": 7,
   "id": "3db077ed-7060-49e0-921a-3f4c12bb6970",
   "metadata": {},
   "outputs": [
    {
     "name": "stdin",
     "output_type": "stream",
     "text": [
      "Enter a number : 1\n"
     ]
    },
    {
     "name": "stdout",
     "output_type": "stream",
     "text": [
      "1 is Positive\n"
     ]
    }
   ],
   "source": [
    "#1. Write a Python program that checks if a given number is positive, negative, or zero.\n",
    "def check_num(number):\n",
    "    if number<0:\n",
    "        print(number,\"is Nagative \")\n",
    "    elif number>0:\n",
    "        print(number, \"is Positive\")\n",
    "    elif number == 0:\n",
    "        print(number, \"is Zero\")\n",
    "    else:\n",
    "        print(\"Please enter a valid number\")\n",
    "try:\n",
    "    input_n = int(input(\"Enter a number :\"))\n",
    "    result = check_num(input_n)\n",
    "except ValueError:\n",
    "    print(\"Plese enter a valid number \")"
   ]
  },
  {
   "cell_type": "code",
   "execution_count": 13,
   "id": "8cd19e67-080a-4ebd-b677-a6c7319f6d5d",
   "metadata": {},
   "outputs": [
    {
     "name": "stdin",
     "output_type": "stream",
     "text": [
      "Enter a person age : 11\n"
     ]
    },
    {
     "name": "stdout",
     "output_type": "stream",
     "text": [
      "Person does not eligible to vote. \n"
     ]
    }
   ],
   "source": [
    "#2. Create a program to determine if a person is eligible to vote based on their age.\n",
    "def check_eligibility(age):\n",
    "    if age>=18:\n",
    "        print(\"Person is eligible to vote.\")\n",
    "    elif 0<age<18:\n",
    "        print(\"Person does not eligible to vote. \")\n",
    "    else:\n",
    "        print(\"Please enter a valid age.\")\n",
    "\n",
    "try:\n",
    "    input_ = int(input(\"Enter a person age :\"))\n",
    "    result = check_eligibility(input_)\n",
    "except ValueError:\n",
    "    print(\"Please enter a valid numeric age. \")"
   ]
  },
  {
   "cell_type": "code",
   "execution_count": 25,
   "id": "10414cf2-00a6-434f-9afe-429210b3754f",
   "metadata": {},
   "outputs": [
    {
     "name": "stdin",
     "output_type": "stream",
     "text": [
      "Enter a first number : 55\n",
      "Enter a second number : 55\n"
     ]
    },
    {
     "name": "stdout",
     "output_type": "stream",
     "text": [
      "55 and 55 are equal\n"
     ]
    }
   ],
   "source": [
    "#3. Write a program to find the maximum of two given numbers using conditional statements.\n",
    "def find_max(value1,value2):\n",
    "    if value1<value2:\n",
    "        print(value2,\"is Maximum\")\n",
    "    elif value1==value2:\n",
    "        print(value1,\"and\",value2,\"are equal\")\n",
    "    else:\n",
    "        print(value1,\"is Maximum\")\n",
    "try:\n",
    "    input1 = float(input(\"Enter a first number :\"))\n",
    "    input2 = float(input(\"Enter a second number :\"))\n",
    "    result = find_max(input1,input2)\n",
    "except ValueError:\n",
    "    print(\"Please enter a valid numeric value\")"
   ]
  },
  {
   "cell_type": "code",
   "execution_count": 26,
   "id": "54357b7f-50c9-4e69-9e2c-305d04fe3e12",
   "metadata": {},
   "outputs": [
    {
     "name": "stdin",
     "output_type": "stream",
     "text": [
      "Enter the exam score:  50\n"
     ]
    },
    {
     "name": "stdout",
     "output_type": "stream",
     "text": [
      "The grade for a score of 50.0 is: F\n"
     ]
    }
   ],
   "source": [
    "#4. Develop a program that calculates the grade of a student based on their exam score.\n",
    "def calculate_grade(score):\n",
    "    if 90 <= score <= 100:\n",
    "        return 'A'\n",
    "    elif 80 <= score < 90:\n",
    "        return 'B'\n",
    "    elif 70 <= score < 80:\n",
    "        return 'C'\n",
    "    elif 60 <= score < 70:\n",
    "        return 'D'\n",
    "    elif 0 <= score < 60:\n",
    "        return 'F'\n",
    "    else:\n",
    "        return 'Invalid Score'\n",
    "\n",
    "try:\n",
    "    score = float(input(\"Enter the exam score: \"))\n",
    "    if 0 <= score <= 100:\n",
    "        result = calculate_grade(score)\n",
    "        print(f\"The grade for a score of {score} is: {result}\")\n",
    "    else:\n",
    "        print(\"Please enter a valid score between 0 and 100.\")\n",
    "except ValueError:\n",
    "    print(\"Invalid input. Please enter a numeric value for the exam score.\")"
   ]
  },
  {
   "cell_type": "code",
   "execution_count": null,
   "id": "cb372206-6c4a-440d-8b84-b006117b9c82",
   "metadata": {},
   "outputs": [],
   "source": [
    "#5. Create a program that checks if a year is a leap year or not.\n",
    "def is_leap_year(year):\n",
    "    if (year % 4 == 0 and year % 100 != 0) or (year % 400 == 0):\n",
    "        return True\n",
    "    else:\n",
    "        return False\n",
    "\n",
    "# Input from the user\n",
    "try:\n",
    "    year = int(input(\"Enter a year: \"))\n",
    "    if year > 0:\n",
    "        if is_leap_year(year):\n",
    "            print(f\"{year} is a leap year.\")\n",
    "        else:\n",
    "            print(f\"{year} is not a leap year.\")\n",
    "    else:\n",
    "        print(\"Please enter a valid positive year.\")\n",
    "except ValueError:\n",
    "    print(\"Invalid input. Please enter a numeric value for the year.\")\n"
   ]
  },
  {
   "cell_type": "code",
   "execution_count": 27,
   "id": "9e4a7ee7-ae93-42db-b996-5106d1eda7f7",
   "metadata": {},
   "outputs": [
    {
     "name": "stdin",
     "output_type": "stream",
     "text": [
      "Enter the length of the first side:  50\n",
      "Enter the length of the second side:  40\n",
      "Enter the length of the third side:  90\n"
     ]
    },
    {
     "name": "stdout",
     "output_type": "stream",
     "text": [
      "The triangle is a Scalene Triangle.\n"
     ]
    }
   ],
   "source": [
    "#6. Write a program to classify a triangle based on its sides' lengths.\n",
    "def classify_triangle(side1, side2, side3):\n",
    "    if side1 == side2 == side3:\n",
    "        return \"Equilateral Triangle\"\n",
    "    elif side1 == side2 or side1 == side3 or side2 == side3:\n",
    "        return \"Isosceles Triangle\"\n",
    "    else:\n",
    "        return \"Scalene Triangle\"\n",
    "\n",
    "# Input from the user\n",
    "try:\n",
    "    side1 = float(input(\"Enter the length of the first side: \"))\n",
    "    side2 = float(input(\"Enter the length of the second side: \"))\n",
    "    side3 = float(input(\"Enter the length of the third side: \"))\n",
    "\n",
    "    if side1 > 0 and side2 > 0 and side3 > 0:\n",
    "        result = classify_triangle(side1, side2, side3)\n",
    "        print(f\"The triangle is a {result}.\")\n",
    "    else:\n",
    "        print(\"Please enter valid positive side lengths.\")\n",
    "except ValueError:\n",
    "    print(\"Invalid input. Please enter numeric values for side lengths.\")"
   ]
  },
  {
   "cell_type": "code",
   "execution_count": 29,
   "id": "b7097050-79e5-45ba-893c-b14e4904b2da",
   "metadata": {},
   "outputs": [
    {
     "name": "stdin",
     "output_type": "stream",
     "text": [
      "Enter the first number:  10\n",
      "Enter the second number:  15\n",
      "Enter the third number:  20\n"
     ]
    },
    {
     "name": "stdout",
     "output_type": "stream",
     "text": [
      "The largest number is: 20.0\n"
     ]
    }
   ],
   "source": [
    "#7. Build a program that determines the largest of three given numbers\n",
    "def find_largest_number(num1, num2, num3):\n",
    "    if num1 >= num2 and num1 >= num3:\n",
    "        return num1\n",
    "    elif num2 >= num1 and num2 >= num3:\n",
    "        return num2\n",
    "    else:\n",
    "        return num3\n",
    "\n",
    "# Input from the user\n",
    "try:\n",
    "    num1 = float(input(\"Enter the first number: \"))\n",
    "    num2 = float(input(\"Enter the second number: \"))\n",
    "    num3 = float(input(\"Enter the third number: \"))\n",
    "\n",
    "    result = find_largest_number(num1, num2, num3)\n",
    "    print(f\"The largest number is: {result}\")\n",
    "except ValueError:\n",
    "    print(\"Invalid input. Please enter number\") "
   ]
  },
  {
   "cell_type": "code",
   "execution_count": 12,
   "id": "33556501-0fc2-490d-9837-bce6f6c6971d",
   "metadata": {},
   "outputs": [
    {
     "name": "stdin",
     "output_type": "stream",
     "text": [
      "Enter a character : HH\n"
     ]
    },
    {
     "name": "stdout",
     "output_type": "stream",
     "text": [
      "Please enter valid single alphabet\n"
     ]
    }
   ],
   "source": [
    "#8. Develop a program that checks whether a character is a vowel or a consonant.\n",
    "def check_char(character):\n",
    "    vowels = \"aeiouAEIOU\"\n",
    "    \n",
    "    if character in vowels:\n",
    "        return \"Vowel\"\n",
    "    else:\n",
    "        return \"Consonant\"\n",
    "input_a = str(input(\"Enter a character :\"))\n",
    "if len(input_a)==1 and input_a.isalpha():\n",
    "        result = check_char(input_a)\n",
    "        print(f\"Entered character is {result}\")\n",
    "else:\n",
    "    print(\"Please enter valid single alphabet\")"
   ]
  },
  {
   "cell_type": "code",
   "execution_count": 10,
   "id": "919afddd-b9c6-4d1d-8ae8-4bf6ffda7507",
   "metadata": {},
   "outputs": [
    {
     "name": "stdin",
     "output_type": "stream",
     "text": [
      "Enter the total cost for all items:  1000\n",
      "Enter the discount for all items:  5\n"
     ]
    },
    {
     "name": "stdout",
     "output_type": "stream",
     "text": [
      "Total cost of shopping cart after applying 5.0% discount: 950.00\n"
     ]
    }
   ],
   "source": [
    "#9. Create a program to calculate the total cost of a shopping cart based on discounts.\n",
    "def calculate_cost(total_cost, discount):\n",
    "    amount = total_cost * discount / 100\n",
    "    return total_cost - amount\n",
    "\n",
    "try:\n",
    "    input_a = float(input(\"Enter the total cost for all items: \"))\n",
    "    input_b = float(input(\"Enter the discount for all items: \"))\n",
    "\n",
    "    result = calculate_cost(input_a, input_b)\n",
    "    print(f\"Total cost of shopping cart after applying {input_b}% discount: {result:.2f}\")\n",
    "except ValueError:\n",
    "    print(\"Please enter a valid numeric discount.\")"
   ]
  },
  {
   "cell_type": "code",
   "execution_count": 12,
   "id": "6ce444c2-3792-4555-bbba-93a870153c4b",
   "metadata": {},
   "outputs": [
    {
     "name": "stdin",
     "output_type": "stream",
     "text": [
      "Enter a number:  100\n"
     ]
    },
    {
     "name": "stdout",
     "output_type": "stream",
     "text": [
      "The number 100 is Even.\n"
     ]
    }
   ],
   "source": [
    "#10. Write a program that checks if a given number is even or odd.\n",
    "def check_even_odd(number):\n",
    "    if number % 2 == 0:\n",
    "        return \"Even\"\n",
    "    else:\n",
    "        return \"Odd\"\n",
    "\n",
    "try:\n",
    "    input_number = int(input(\"Enter a number: \"))\n",
    "    result = check_even_odd(input_number)\n",
    "    print(f\"The number {input_number} is {result}.\")\n",
    "except ValueError:\n",
    "    print(\"Please enter a valid integer.\")"
   ]
  },
  {
   "cell_type": "code",
   "execution_count": 2,
   "id": "35507c92-4d50-46f7-ae62-600d1b619856",
   "metadata": {},
   "outputs": [
    {
     "name": "stdin",
     "output_type": "stream",
     "text": [
      "Enter the coefficient a:  10\n",
      "Enter the coefficient b:  10\n",
      "Enter the coefficient c:  10\n"
     ]
    },
    {
     "name": "stdout",
     "output_type": "stream",
     "text": [
      "Root 1: -0.5 + 0.8660254037844387i\n",
      "Root 2: -0.5 - 0.8660254037844387i\n"
     ]
    }
   ],
   "source": [
    "#11. Write a program that calculates the roots of a quadratic equation\n",
    "import math\n",
    "\n",
    "def calculate_roots(a, b, c):\n",
    "    # Calculate the discriminant\n",
    "    discriminant = b**2 - 4*a*c\n",
    "    \n",
    "    # Check if the discriminant is non-negative\n",
    "    if discriminant >= 0:\n",
    "        # Calculate the roots using the quadratic formula\n",
    "        root1 = (-b + math.sqrt(discriminant)) / (2*a)\n",
    "        root2 = (-b - math.sqrt(discriminant)) / (2*a)\n",
    "        \n",
    "        # Print the roots\n",
    "        print(\"Root 1:\", root1)\n",
    "        print(\"Root 2:\", root2)\n",
    "    else:\n",
    "        # If discriminant is negative, roots are complex numbers\n",
    "        real_part = -b / (2*a)\n",
    "        imaginary_part = math.sqrt(abs(discriminant)) / (2*a)\n",
    "        \n",
    "        # Print the complex roots\n",
    "        print(\"Root 1:\", f\"{real_part} + {imaginary_part}i\")\n",
    "        print(\"Root 2:\", f\"{real_part} - {imaginary_part}i\")\n",
    "\n",
    "# Input coefficients from the user\n",
    "a = float(input(\"Enter the coefficient a: \"))\n",
    "b = float(input(\"Enter the coefficient b: \"))\n",
    "c = float(input(\"Enter the coefficient c: \"))\n",
    "\n",
    "# Call the function to calculate and display the roots\n",
    "calculate_roots(a, b, c)"
   ]
  },
  {
   "cell_type": "code",
   "execution_count": 8,
   "id": "82f6affc-b114-417b-9da2-9af3061a9dc2",
   "metadata": {},
   "outputs": [
    {
     "name": "stdin",
     "output_type": "stream",
     "text": [
      "Enter a day 5\n"
     ]
    },
    {
     "name": "stdout",
     "output_type": "stream",
     "text": [
      "It is Friday\n"
     ]
    }
   ],
   "source": [
    "#12. Create a program that determines the day of the week based on the day number (1-7).\n",
    "def check_day(day):\n",
    "    if 0<day<=7:\n",
    "        if day== 1:\n",
    "            print(\"It is Monday\")\n",
    "        elif day==2 :\n",
    "            print(\"It is Tuesday\")\n",
    "        elif day==3 :\n",
    "            print(\"It is Wednesday\")\n",
    "        elif day==4 :\n",
    "            print(\"It is Thursday\")\n",
    "        elif day==5 :\n",
    "            print(\"It is Friday\")\n",
    "        elif day==6 :\n",
    "            print(\"It is Saturday\")\n",
    "        elif day==7 :\n",
    "            print(\"It is Sunday\")\n",
    "    else:\n",
    "                  print(\"Please enter a correct numeric day, between 1 to 7\")\n",
    "                        \n",
    "try:\n",
    "    input_ = int(input(\"Enter a day\"))\n",
    "\n",
    "    result = check_day(input_)\n",
    "except ValueError:\n",
    "    print(\"Please enter a correct numeric day, between 1 to 7\")"
   ]
  },
  {
   "cell_type": "code",
   "execution_count": 22,
   "id": "5caf26c8-0642-4a50-b7ee-aeb3c3ab3af9",
   "metadata": {},
   "outputs": [
    {
     "name": "stdin",
     "output_type": "stream",
     "text": [
      "Enter a number:  10\n"
     ]
    },
    {
     "name": "stdout",
     "output_type": "stream",
     "text": [
      "The factorial of 10 is 3628800\n"
     ]
    }
   ],
   "source": [
    "#13. Develop a program that calculates the factorial of a given number using recursion.\n",
    "def factorial(number):\n",
    "    if number == 0 or number == 1:\n",
    "        return 1\n",
    "    else:\n",
    "        return number * factorial(number - 1)\n",
    "try:\n",
    "    input_ = int(input(\"Enter a number: \"))\n",
    "    result = factorial(input_)\n",
    "    print(f\"The factorial of {input_} is {result}\")\n",
    "except ValueError:\n",
    "    print(\"Please enter a valid numeric value\")"
   ]
  },
  {
   "cell_type": "code",
   "execution_count": 43,
   "id": "936fcdae-836d-47ba-a262-a32fd79ab534",
   "metadata": {},
   "outputs": [
    {
     "name": "stdin",
     "output_type": "stream",
     "text": [
      "Please enter a first number 55\n",
      "Please enter a second number 18\n",
      "Please enter a third number 41\n"
     ]
    },
    {
     "name": "stdout",
     "output_type": "stream",
     "text": [
      "Largest among three numbers is 55.0\n"
     ]
    }
   ],
   "source": [
    "#14. Write a program to find the largest among three numbers without using the `max()` function.\n",
    "def find_max(num1,num2,num3):\n",
    "    \n",
    "    if num1>num2 and num1>num3:\n",
    "        return num1\n",
    "    elif num2>num1 and num2>num3:\n",
    "        return num2\n",
    "    else :\n",
    "        return num3\n",
    "try:\n",
    "    \n",
    "    input_A = float(input(\"Please enter a first number\"))\n",
    "    input_B = float(input(\"Please enter a second number\"))\n",
    "    input_C = float(input(\"Please enter a third number\"))\n",
    "    \n",
    "    result_ = find_max(input_A,input_B,input_C)\n",
    "    \n",
    "    print(f\"Largest among three numbers is {result_}\")\n",
    "\n",
    "except ValueError:\n",
    "    print(\"Please enter a valid numeric value\")"
   ]
  },
  {
   "cell_type": "code",
   "execution_count": 44,
   "id": "8f12f7a5-77aa-4908-b46e-8d4a85a6f7a3",
   "metadata": {},
   "outputs": [
    {
     "name": "stdout",
     "output_type": "stream",
     "text": [
      "**** ATM Transaction Menu ****\n",
      "1. Check Balance\n",
      "2. Deposit Money\n",
      "3. Withdraw Money\n",
      "4. Quit\n"
     ]
    },
    {
     "name": "stdin",
     "output_type": "stream",
     "text": [
      "Enter your choice (1-4):  3\n",
      "Enter the amount to withdraw: $ 500\n"
     ]
    },
    {
     "name": "stdout",
     "output_type": "stream",
     "text": [
      "$500.0 withdrawn successfully.\n",
      "**** ATM Transaction Menu ****\n",
      "1. Check Balance\n",
      "2. Deposit Money\n",
      "3. Withdraw Money\n",
      "4. Quit\n"
     ]
    },
    {
     "name": "stdin",
     "output_type": "stream",
     "text": [
      "Enter your choice (1-4):  4\n"
     ]
    },
    {
     "name": "stdout",
     "output_type": "stream",
     "text": [
      "Thank you for using the ATM. Goodbye!\n"
     ]
    }
   ],
   "source": [
    "#15. Create a program that simulates a basic ATM transaction menu.\n",
    "def display_menu():\n",
    "    print(\"**** ATM Transaction Menu ****\")\n",
    "    print(\"1. Check Balance\")\n",
    "    print(\"2. Deposit Money\")\n",
    "    print(\"3. Withdraw Money\")\n",
    "    print(\"4. Quit\")\n",
    "\n",
    "def check_balance(balance):\n",
    "    print(f\"Your current balance is ${balance}\")\n",
    "\n",
    "def deposit_money(balance):\n",
    "    amount = float(input(\"Enter the amount to deposit: $\"))\n",
    "    balance += amount\n",
    "    print(f\"${amount} deposited successfully.\")\n",
    "    return balance\n",
    "\n",
    "def withdraw_money(balance):\n",
    "    amount = float(input(\"Enter the amount to withdraw: $\"))\n",
    "    if amount <= balance:\n",
    "        balance -= amount\n",
    "        print(f\"${amount} withdrawn successfully.\")\n",
    "    else:\n",
    "        print(\"Insufficient funds. Withdrawal failed.\")\n",
    "    return balance\n",
    "\n",
    "# Initialize balance\n",
    "balance = 1000.0\n",
    "\n",
    "while True:\n",
    "    display_menu()\n",
    "    choice = input(\"Enter your choice (1-4): \")\n",
    "\n",
    "    if choice == '1':\n",
    "        check_balance(balance)\n",
    "    elif choice == '2':\n",
    "        balance = deposit_money(balance)\n",
    "    elif choice == '3':\n",
    "        balance = withdraw_money(balance)\n",
    "    elif choice == '4':\n",
    "        print(\"Thank you for using the ATM. Goodbye!\")\n",
    "        break\n",
    "    else:\n",
    "        print(\"Invalid choice. Please enter a number between 1 and 4.\")"
   ]
  },
  {
   "cell_type": "code",
   "execution_count": 6,
   "id": "3ae43351-3544-4a1c-a170-4823f537ec78",
   "metadata": {},
   "outputs": [
    {
     "name": "stdin",
     "output_type": "stream",
     "text": [
      "Enter a string Radar\n"
     ]
    },
    {
     "name": "stdout",
     "output_type": "stream",
     "text": [
      "The entered string is palindrome\n"
     ]
    }
   ],
   "source": [
    "#16. Build a program that checks if a given string is a palindrome or not.\n",
    "def check_str(string):\n",
    "    string = ''.join(string.lower().split())\n",
    "    if string == string[::-1]:\n",
    "        print(\"The entered string is palindrome\")\n",
    "    else:\n",
    "        print(\"The entered string is not palindrome\")\n",
    "input_A = input(\"Enter a string\")\n",
    "result = check_str(input_A)"
   ]
  },
  {
   "cell_type": "code",
   "execution_count": 5,
   "id": "97e81be3-2975-434d-bef9-b41e8e68addc",
   "metadata": {},
   "outputs": [
    {
     "name": "stdout",
     "output_type": "stream",
     "text": [
      "The average (excluding the smallest and largest values) is: 17.833333333333332\n"
     ]
    }
   ],
   "source": [
    "#17. Write a program that calculates the average of a list of numbers, excluding the smallest and largest values.\n",
    "def average(numbers):\n",
    "    # Check if the list has at least two elements\n",
    "    if len(numbers) < 3:\n",
    "        return \"List must have at least three numbers for a valid calculation.\"\n",
    "\n",
    "    # Sort the list\n",
    "    numbers.sort()\n",
    "\n",
    "    # Exclude the smallest and largest values\n",
    "    numbers = numbers[1:-1]\n",
    "\n",
    "    # Calculate the average\n",
    "    average_ = sum(numbers) / len(numbers)\n",
    "\n",
    "    return average_\n",
    "\n",
    "# Example list of numbers\n",
    "list_a = [22, 12, 4, 5, 88, 6, 7, 55]\n",
    "\n",
    "# Call the function and display the result\n",
    "result = average(list_a)\n",
    "print(\"The average (excluding the smallest and largest values) is:\", result)"
   ]
  },
  {
   "cell_type": "code",
   "execution_count": 40,
   "id": "d36cfb73-0d8c-49f5-b832-7cd813fe9112",
   "metadata": {},
   "outputs": [
    {
     "name": "stdin",
     "output_type": "stream",
     "text": [
      "Enter a temperature in celsius 25\n"
     ]
    },
    {
     "name": "stdout",
     "output_type": "stream",
     "text": [
      "77.0\n"
     ]
    }
   ],
   "source": [
    "#18. Develop a program that converts a given temperature from Celsius to Fahrenheit.\n",
    "def temp_convert(celsius):\n",
    "    fahrenheit = 9/5*celsius+32\n",
    "    return fahrenheit\n",
    "\n",
    "input_C = int(input(\"Enter a temperature in celsius\"))\n",
    "result_f = temp_convert(input_C)\n",
    "print(result_f)"
   ]
  },
  {
   "cell_type": "code",
   "execution_count": 61,
   "id": "4ae7c3e4-8491-4724-a089-82fdc57c476f",
   "metadata": {},
   "outputs": [
    {
     "name": "stdin",
     "output_type": "stream",
     "text": [
      "Enter a first number : 1\n",
      "Enter a opration sign (/,*,-,+) : +\n",
      "Enter a second number : 1\n"
     ]
    },
    {
     "name": "stdout",
     "output_type": "stream",
     "text": [
      "2.0\n"
     ]
    }
   ],
   "source": [
    "#19. Create a program that simulates a basic calculator for addition, subtraction, multiplication, and division.\n",
    "def calculator(number1,oprator,number2):\n",
    "    \n",
    "    if oprator == \"+\":\n",
    "        return number1+number2\n",
    "    elif oprator == \"-\":\n",
    "        return number1-number2\n",
    "    elif oprator == \"/\":\n",
    "        if number2 !=0:\n",
    "            return number1/number2\n",
    "        else:\n",
    "            print(\"Number cannot devide by Zero\")\n",
    "    elif oprator == \"*\":\n",
    "        return number1*number2\n",
    "    else:\n",
    "        (\"Please enter a valid number and sign\")\n",
    "try:\n",
    "    input_A = float(input(\"Enter a first number :\"))\n",
    "    input_B = input(\"Enter a opration sign (/,*,-,+) :\")\n",
    "    input_C = float(input(\"Enter a second number :\"))\n",
    "    if input_B in [\"+\",\"-\",\"/\",\"*\"]:\n",
    "        result_ = calculator(input_A,input_B,input_C)\n",
    "        print(result_)\n",
    "    else:\n",
    "        print(\"Please enter a valid oprator (/,*,-,+) \")\n",
    "except ValueError:\n",
    "    print(\"Please enter a valid numeric value\")"
   ]
  },
  {
   "cell_type": "code",
   "execution_count": 62,
   "id": "1ff08894-97a6-469f-949e-572d67526739",
   "metadata": {},
   "outputs": [
    {
     "name": "stdin",
     "output_type": "stream",
     "text": [
      "Enter the coefficient of x^3:  5\n",
      "Enter the coefficient of x^2:  3\n",
      "Enter the coefficient of x:  10\n",
      "Enter the constant term:  5\n"
     ]
    },
    {
     "name": "stdout",
     "output_type": "stream",
     "text": [
      "The roots of the cubic equation are: ((-0.6812957502254233+0j), (-0.36275509039222675-0.28190008574980185j))\n"
     ]
    }
   ],
   "source": [
    "#20. Write a program that determines the roots of a cubic equation using the Cardano formula.\n",
    "import cmath\n",
    "\n",
    "def cardano_formula(a, b, c, d):\n",
    "    p = (3*a*c - b**2) / (3*a**2)\n",
    "    q = (2*b**3 - 9*a*b*c + 27*a**2*d) / (27*a**3)\n",
    "    delta = (q**2/4) + (p**3/27)\n",
    "    \n",
    "    if delta >= 0:\n",
    "        r1 = -1.0 / 2 * (q / 2 + cmath.sqrt(delta))**(1/3)\n",
    "        r2 = -1.0 / 2 * (q / 2 - cmath.sqrt(delta))**(1/3)\n",
    "    else:\n",
    "        r1 = -1.0 / 2 * ((q / 2 + cmath.sqrt(delta))**(1/3) - (q / 2 - cmath.sqrt(delta))**(1/3))\n",
    "        r2 = (cmath.sqrt(3) / 2) * ((q / 2 + cmath.sqrt(delta))**(1/3) + (q / 2 - cmath.sqrt(delta))**(1/3))\n",
    "    \n",
    "    root1 = r1 - (b / (3 * a))\n",
    "    root2 = r2 - (b / (3 * a))\n",
    "    \n",
    "    return root1, root2\n",
    "\n",
    "# Example usage:\n",
    "a = float(input(\"Enter the coefficient of x^3: \"))\n",
    "b = float(input(\"Enter the coefficient of x^2: \"))\n",
    "c = float(input(\"Enter the coefficient of x: \"))\n",
    "d = float(input(\"Enter the constant term: \"))\n",
    "\n",
    "roots = cardano_formula(a, b, c, d)\n",
    "print(f\"The roots of the cubic equation are: {roots}\")"
   ]
  },
  {
   "cell_type": "code",
   "execution_count": 69,
   "id": "baa1b5f3-0e01-4460-8d7f-b0543e80bbf2",
   "metadata": {},
   "outputs": [
    {
     "name": "stdin",
     "output_type": "stream",
     "text": [
      "Enter your annual income:  5411\n"
     ]
    },
    {
     "name": "stdout",
     "output_type": "stream",
     "text": [
      "Your income tax is: 541.1\n"
     ]
    }
   ],
   "source": [
    "#21. Create a program that calculates the income tax based on the user's income and tax brackets.\n",
    "def calculate_income_tax(income):\n",
    "    # Define tax brackets and rates\n",
    "    brackets = [0, 9875, 40125, 85525, 163300, 207350, 518400]\n",
    "    rates = [0.1, 0.12, 0.22, 0.24, 0.32, 0.35, 0.37]\n",
    "\n",
    "    # Find the applicable tax bracket\n",
    "    for i in range(len(brackets)):\n",
    "        if income <= brackets[i]:\n",
    "            tax = sum((income - brackets[j]) * rates[j] for j in range(i))\n",
    "            return round(tax, 2)\n",
    "\n",
    "    # If income is above the highest bracket\n",
    "    highest_bracket = brackets[-1]\n",
    "    remaining_income = income - highest_bracket\n",
    "    tax = sum((brackets[j + 1] - brackets[j]) * rates[j] for j in range(len(brackets) - 1))\n",
    "    tax += remaining_income * rates[-1]\n",
    "\n",
    "    return round(tax, 2)\n",
    "\n",
    "# Get user input for income\n",
    "income = float(input(\"Enter your annual income: \"))\n",
    "\n",
    "# Calculate and display the income tax\n",
    "income_tax = calculate_income_tax(income)\n",
    "print(f\"Your income tax is: {income_tax}\")"
   ]
  },
  {
   "cell_type": "code",
   "execution_count": 71,
   "id": "371a9921-22d6-43d7-aabe-7309cbeb6e98",
   "metadata": {},
   "outputs": [
    {
     "name": "stdout",
     "output_type": "stream",
     "text": [
      "Let's play Rock-Paper-Scissors!\n",
      "Enter your choice: rock, paper, or scissors\n"
     ]
    },
    {
     "name": "stdin",
     "output_type": "stream",
     "text": [
      " paper\n"
     ]
    },
    {
     "name": "stdout",
     "output_type": "stream",
     "text": [
      "You chose paper\n",
      "Computer chose paper\n",
      "It's a tie!\n"
     ]
    }
   ],
   "source": [
    "#22. Write a program that simulates a rock-paper-scissors game against the computer.\n",
    "import random\n",
    "\n",
    "def get_user_choice():\n",
    "    print(\"Enter your choice: rock, paper, or scissors\")\n",
    "    user_choice = input().lower()\n",
    "    while user_choice not in ['rock', 'paper', 'scissors']:\n",
    "        print(\"Invalid choice. Please enter rock, paper, or scissors.\")\n",
    "        user_choice = input().lower()\n",
    "    return user_choice\n",
    "\n",
    "def get_computer_choice():\n",
    "    return random.choice(['rock', 'paper', 'scissors'])\n",
    "\n",
    "def determine_winner(user_choice, computer_choice):\n",
    "    if user_choice == computer_choice:\n",
    "        return \"It's a tie!\"\n",
    "    elif (\n",
    "        (user_choice == 'rock' and computer_choice == 'scissors') or\n",
    "        (user_choice == 'paper' and computer_choice == 'rock') or\n",
    "        (user_choice == 'scissors' and computer_choice == 'paper')\n",
    "    ):\n",
    "        return \"You win!\"\n",
    "    else:\n",
    "        return \"Computer wins!\"\n",
    "\n",
    "def play_game():\n",
    "    print(\"Let's play Rock-Paper-Scissors!\")\n",
    "    user_choice = get_user_choice()\n",
    "    computer_choice = get_computer_choice()\n",
    "    \n",
    "    print(f\"You chose {user_choice}\")\n",
    "    print(f\"Computer chose {computer_choice}\")\n",
    "\n",
    "    result = determine_winner(user_choice, computer_choice)\n",
    "    print(result)\n",
    "\n",
    "# Play the game\n",
    "play_game()"
   ]
  },
  {
   "cell_type": "code",
   "execution_count": 73,
   "id": "439aeda4-ad95-49af-8cdd-09c2c128b685",
   "metadata": {},
   "outputs": [
    {
     "name": "stdout",
     "output_type": "stream",
     "text": [
      "Password Generator\n"
     ]
    },
    {
     "name": "stdin",
     "output_type": "stream",
     "text": [
      "Enter the desired password length:  8\n",
      "Include uppercase letters? (yes/no):  yes\n",
      "Include digits? (yes/no):  yes\n",
      "Include special characters? (yes/no):  yes\n"
     ]
    },
    {
     "name": "stdout",
     "output_type": "stream",
     "text": [
      "Generated Password: aD6{kH@&\n"
     ]
    }
   ],
   "source": [
    "#23. Develop a program that generates a random password based on user preferences (length, complexity).\n",
    "import random\n",
    "import string\n",
    "\n",
    "def generate_password(length, include_uppercase, include_digits, include_special_chars):\n",
    "    characters = string.ascii_lowercase\n",
    "    if include_uppercase:\n",
    "        characters += string.ascii_uppercase\n",
    "    if include_digits:\n",
    "        characters += string.digits\n",
    "    if include_special_chars:\n",
    "        characters += string.punctuation\n",
    "\n",
    "    if length < 1:\n",
    "        print(\"Password length should be at least 1.\")\n",
    "        return None\n",
    "\n",
    "    password = ''.join(random.choice(characters) for _ in range(length))\n",
    "    return password\n",
    "\n",
    "def get_user_preferences():\n",
    "    length = int(input(\"Enter the desired password length: \"))\n",
    "    include_uppercase = input(\"Include uppercase letters? (yes/no): \").lower() == 'yes'\n",
    "    include_digits = input(\"Include digits? (yes/no): \").lower() == 'yes'\n",
    "    include_special_chars = input(\"Include special characters? (yes/no): \").lower() == 'yes'\n",
    "\n",
    "    return length, include_uppercase, include_digits, include_special_chars\n",
    "\n",
    "def main():\n",
    "    print(\"Password Generator\")\n",
    "    length, include_uppercase, include_digits, include_special_chars = get_user_preferences()\n",
    "\n",
    "    password = generate_password(length, include_uppercase, include_digits, include_special_chars)\n",
    "\n",
    "    if password:\n",
    "        print(\"Generated Password:\", password)\n",
    "\n",
    "if __name__ == \"__main__\":\n",
    "    main()"
   ]
  },
  {
   "cell_type": "code",
   "execution_count": 74,
   "id": "5b2bd3dd-16f3-428e-b66d-d22ec907db8d",
   "metadata": {},
   "outputs": [
    {
     "name": "stdout",
     "output_type": "stream",
     "text": [
      "Welcome to the Adventure in the Enchanted Cave!\n",
      "You find yourself standing at the entrance of a mysterious cave.\n",
      "You can hear strange noises echoing from inside.\n",
      "\n",
      "What will you do?\n",
      "1. Enter the cave cautiously.\n",
      "2. Yell into the cave to see if anyone or anything responds.\n"
     ]
    },
    {
     "name": "stdin",
     "output_type": "stream",
     "text": [
      "Enter 1 or 2:  2\n"
     ]
    },
    {
     "name": "stdout",
     "output_type": "stream",
     "text": [
      "\n",
      "You yell into the cave, but there's no response.\n",
      "You decide to cautiously enter.\n",
      "\n",
      "You enter the cave and discover two paths.\n",
      "One path is well-lit and seems safe, while the other is dark and ominous.\n",
      "Which path will you choose?\n",
      "1. Take the well-lit path.\n",
      "2. Venture into the dark and ominous path.\n"
     ]
    },
    {
     "name": "stdin",
     "output_type": "stream",
     "text": [
      "Enter 1 or 2:  2\n"
     ]
    },
    {
     "name": "stdout",
     "output_type": "stream",
     "text": [
      "\n",
      "The dark and ominous path is filled with twists and turns.\n",
      "Suddenly, you encounter a mythical creature!\n",
      "What will you do?\n",
      "1. Try to befriend the creature.\n",
      "2. Attempt to run away.\n"
     ]
    },
    {
     "name": "stdin",
     "output_type": "stream",
     "text": [
      "Enter 1 or 2:  1\n"
     ]
    },
    {
     "name": "stdout",
     "output_type": "stream",
     "text": [
      "\n",
      "You manage to befriend the creature, and it guides you to an exit.\n",
      "You escape the cave safely.\n",
      "Congratulations, you've successfully navigated the challenges!\n"
     ]
    }
   ],
   "source": [
    "#24. Create a program that implements a simple text-based adventure game with branching scenarios.\n",
    "import time\n",
    "\n",
    "def introduction():\n",
    "    print(\"Welcome to the Adventure in the Enchanted Cave!\")\n",
    "    time.sleep(1)\n",
    "    print(\"You find yourself standing at the entrance of a mysterious cave.\")\n",
    "    time.sleep(1)\n",
    "    print(\"You can hear strange noises echoing from inside.\")\n",
    "\n",
    "def make_choice():\n",
    "    print(\"\\nWhat will you do?\")\n",
    "    print(\"1. Enter the cave cautiously.\")\n",
    "    print(\"2. Yell into the cave to see if anyone or anything responds.\")\n",
    "    choice = input(\"Enter 1 or 2: \")\n",
    "    return choice\n",
    "\n",
    "def explore_cave():\n",
    "    print(\"\\nYou enter the cave and discover two paths.\")\n",
    "    time.sleep(1)\n",
    "    print(\"One path is well-lit and seems safe, while the other is dark and ominous.\")\n",
    "    time.sleep(1)\n",
    "    print(\"Which path will you choose?\")\n",
    "    print(\"1. Take the well-lit path.\")\n",
    "    print(\"2. Venture into the dark and ominous path.\")\n",
    "    choice = input(\"Enter 1 or 2: \")\n",
    "    return choice\n",
    "\n",
    "def well_lit_path():\n",
    "    print(\"\\nThe well-lit path leads you to a beautiful chamber filled with treasures.\")\n",
    "    time.sleep(1)\n",
    "    print(\"Congratulations, you've found the hidden treasure!\")\n",
    "    time.sleep(1)\n",
    "    print(\"You are victorious!\")\n",
    "\n",
    "def ominous_path():\n",
    "    print(\"\\nThe dark and ominous path is filled with twists and turns.\")\n",
    "    time.sleep(1)\n",
    "    print(\"Suddenly, you encounter a mythical creature!\")\n",
    "    time.sleep(1)\n",
    "    print(\"What will you do?\")\n",
    "    print(\"1. Try to befriend the creature.\")\n",
    "    print(\"2. Attempt to run away.\")\n",
    "    choice = input(\"Enter 1 or 2: \")\n",
    "    if choice == '1':\n",
    "        print(\"\\nYou manage to befriend the creature, and it guides you to an exit.\")\n",
    "        time.sleep(1)\n",
    "        print(\"You escape the cave safely.\")\n",
    "        time.sleep(1)\n",
    "        print(\"Congratulations, you've successfully navigated the challenges!\")\n",
    "    else:\n",
    "        print(\"\\nYou run away, but the creature catches up.\")\n",
    "        time.sleep(1)\n",
    "        print(\"Unfortunately, the creature was a guardian, and you face consequences.\")\n",
    "        time.sleep(1)\n",
    "        print(\"Game over.\")\n",
    "\n",
    "def main():\n",
    "    introduction()\n",
    "\n",
    "    while True:\n",
    "        choice = make_choice()\n",
    "\n",
    "        if choice == '1':\n",
    "            explore_choice = explore_cave()\n",
    "\n",
    "            if explore_choice == '1':\n",
    "                well_lit_path()\n",
    "                break\n",
    "            elif explore_choice == '2':\n",
    "                ominous_path()\n",
    "                break\n",
    "            else:\n",
    "                print(\"Invalid choice. Please enter 1 or 2.\")\n",
    "\n",
    "        elif choice == '2':\n",
    "            print(\"\\nYou yell into the cave, but there's no response.\")\n",
    "            time.sleep(1)\n",
    "            print(\"You decide to cautiously enter.\")\n",
    "            explore_cave_choice = explore_cave()\n",
    "\n",
    "            if explore_cave_choice == '1':\n",
    "                well_lit_path()\n",
    "                break\n",
    "            elif explore_cave_choice == '2':\n",
    "                ominous_path()\n",
    "                break\n",
    "            else:\n",
    "                print(\"Invalid choice. Please enter 1 or 2.\")\n",
    "\n",
    "        else:\n",
    "            print(\"Invalid choice. Please enter 1 or 2.\")\n",
    "\n",
    "if __name__ == \"__main__\":\n",
    "    main()"
   ]
  },
  {
   "cell_type": "code",
   "execution_count": 75,
   "id": "55aafdca-fc18-4e0a-af87-ff3ed6876f51",
   "metadata": {},
   "outputs": [
    {
     "name": "stdout",
     "output_type": "stream",
     "text": [
      "Linear Equation Solver\n",
      "The linear equation is of the form 'ax + b = 0'\n"
     ]
    },
    {
     "name": "stdin",
     "output_type": "stream",
     "text": [
      "Enter the coefficient 'a':  5\n",
      "Enter the constant term 'b':  5\n"
     ]
    },
    {
     "name": "stdout",
     "output_type": "stream",
     "text": [
      "The solution for x is: -1.0\n"
     ]
    }
   ],
   "source": [
    "#25. Build a program that solves a linear equation  for x, considering different cases.\n",
    "def solve_linear_equation(a, b):\n",
    "    if a == 0:\n",
    "        if b == 0:\n",
    "            return \"Infinite solutions (all real numbers)\"\n",
    "        else:\n",
    "            return \"No solution (contradiction)\"\n",
    "    else:\n",
    "        x = -b / a\n",
    "        return f\"The solution for x is: {x}\"\n",
    "\n",
    "def get_coefficients():\n",
    "    a = float(input(\"Enter the coefficient 'a': \"))\n",
    "    b = float(input(\"Enter the constant term 'b': \"))\n",
    "    return a, b\n",
    "\n",
    "def main():\n",
    "    print(\"Linear Equation Solver\")\n",
    "    print(\"The linear equation is of the form 'ax + b = 0'\")\n",
    "    \n",
    "    a, b = get_coefficients()\n",
    "\n",
    "    result = solve_linear_equation(a, b)\n",
    "    print(result)\n",
    "\n",
    "if __name__ == \"__main__\":\n",
    "    main()"
   ]
  },
  {
   "cell_type": "code",
   "execution_count": 78,
   "id": "33af2c06-23f1-4f4c-8207-a864519c04ad",
   "metadata": {},
   "outputs": [
    {
     "name": "stdout",
     "output_type": "stream",
     "text": [
      "Welcome to the Quiz Game!\n",
      "Which planet is known as the Red Planet?\n",
      "1. Venus\n",
      "2. Mars\n",
      "3. Jupiter\n",
      "4. Saturn\n"
     ]
    },
    {
     "name": "stdin",
     "output_type": "stream",
     "text": [
      "Your answer (enter the option number):  2\n"
     ]
    },
    {
     "name": "stdout",
     "output_type": "stream",
     "text": [
      "Correct!\n",
      "\n",
      "What is the largest mammal in the world?\n",
      "1. Elephant\n",
      "2. Blue Whale\n",
      "3. Giraffe\n",
      "4. Hippopotamus\n"
     ]
    },
    {
     "name": "stdin",
     "output_type": "stream",
     "text": [
      "Your answer (enter the option number):  2\n"
     ]
    },
    {
     "name": "stdout",
     "output_type": "stream",
     "text": [
      "Correct!\n",
      "\n",
      "What is the capital of France?\n",
      "1. Paris\n",
      "2. Berlin\n",
      "3. Madrid\n",
      "4. Rome\n"
     ]
    },
    {
     "name": "stdin",
     "output_type": "stream",
     "text": [
      "Your answer (enter the option number):  1\n"
     ]
    },
    {
     "name": "stdout",
     "output_type": "stream",
     "text": [
      "Correct!\n",
      "\n",
      "Your final score is: 3/3\n"
     ]
    }
   ],
   "source": [
    "#26. Write a program that simulates a basic quiz game with multiple-choice questions and scoring.\n",
    "import random\n",
    "\n",
    "class Quiz:\n",
    "    def __init__(self, questions):\n",
    "        self.questions = questions\n",
    "        self.score = 0\n",
    "\n",
    "    def display_question(self, question):\n",
    "        print(question['question'])\n",
    "        for i, option in enumerate(question['options'], start=1):\n",
    "            print(f\"{i}. {option}\")\n",
    "        user_answer = input(\"Your answer (enter the option number): \")\n",
    "        return int(user_answer)\n",
    "\n",
    "    def ask_questions(self):\n",
    "        random.shuffle(self.questions)\n",
    "        for question in self.questions:\n",
    "            user_answer = self.display_question(question)\n",
    "            correct_answer = question['correct_option']\n",
    "\n",
    "            if user_answer == correct_answer:\n",
    "                print(\"Correct!\\n\")\n",
    "                self.score += 1\n",
    "            else:\n",
    "                print(f\"Wrong! The correct answer is {correct_answer}: {question['options'][correct_answer-1]}\\n\")\n",
    "\n",
    "    def display_score(self):\n",
    "        print(f\"Your final score is: {self.score}/{len(self.questions)}\")\n",
    "\n",
    "def main():\n",
    "    questions = [\n",
    "        {\n",
    "            'question': 'What is the capital of France?',\n",
    "            'options': ['Paris', 'Berlin', 'Madrid', 'Rome'],\n",
    "            'correct_option': 1\n",
    "        },\n",
    "        {\n",
    "            'question': 'Which planet is known as the Red Planet?',\n",
    "            'options': ['Venus', 'Mars', 'Jupiter', 'Saturn'],\n",
    "            'correct_option': 2\n",
    "        },\n",
    "        {\n",
    "            'question': 'What is the largest mammal in the world?',\n",
    "            'options': ['Elephant', 'Blue Whale', 'Giraffe', 'Hippopotamus'],\n",
    "            'correct_option': 2\n",
    "        }\n",
    "        # Add more questions as needed\n",
    "    ]\n",
    "\n",
    "    quiz = Quiz(questions)\n",
    "    print(\"Welcome to the Quiz Game!\")\n",
    "    quiz.ask_questions()\n",
    "    quiz.display_score()\n",
    "\n",
    "if __name__ == \"__main__\":\n",
    "    main()"
   ]
  },
  {
   "cell_type": "code",
   "execution_count": 79,
   "id": "19733882-95e2-429e-aeb3-073619911aff",
   "metadata": {},
   "outputs": [
    {
     "name": "stdin",
     "output_type": "stream",
     "text": [
      "Enter a year:  2055\n"
     ]
    },
    {
     "name": "stdout",
     "output_type": "stream",
     "text": [
      "2055 is not a prime number.\n"
     ]
    }
   ],
   "source": [
    "#27. Develop a program that determines whether a given year is a prime number or not.\n",
    "def is_prime(year):\n",
    "    if year < 2:\n",
    "        return False\n",
    "    for i in range(2, int(year**0.5) + 1):\n",
    "        if year % i == 0:\n",
    "            return False\n",
    "    return True\n",
    "\n",
    "def main():\n",
    "    try:\n",
    "        year = int(input(\"Enter a year: \"))\n",
    "        if is_prime(year):\n",
    "            print(f\"{year} is a prime number.\")\n",
    "        else:\n",
    "            print(f\"{year} is not a prime number.\")\n",
    "    except ValueError:\n",
    "        print(\"Invalid input. Please enter a valid integer.\")\n",
    "\n",
    "if __name__ == \"__main__\":\n",
    "    main()"
   ]
  },
  {
   "cell_type": "code",
   "execution_count": 82,
   "id": "a7244fd1-6f0e-4429-8a5b-296adda4f2b1",
   "metadata": {},
   "outputs": [
    {
     "name": "stdin",
     "output_type": "stream",
     "text": [
      "Enter the first number:  10\n",
      "Enter the second number:  5\n",
      "Enter the third number:  10\n"
     ]
    },
    {
     "name": "stdout",
     "output_type": "stream",
     "text": [
      "Sorted numbers in ascending order: (5.0, 10.0, 10.0)\n"
     ]
    }
   ],
   "source": [
    "#28. Create a program that sorts three numbers in ascending order using conditional statements.\n",
    "# Function to sort three numbers in ascending order\n",
    "def sort_numbers(num1, num2, num3):\n",
    "    if num1 <= num2 and num1 <= num3:\n",
    "        smallest = num1\n",
    "        if num2 <= num3:\n",
    "            middle = num2\n",
    "            largest = num3\n",
    "        else:\n",
    "            middle = num3\n",
    "            largest = num2\n",
    "    elif num2 <= num1 and num2 <= num3:\n",
    "        smallest = num2\n",
    "        if num1 <= num3:\n",
    "            middle = num1\n",
    "            largest = num3\n",
    "        else:\n",
    "            middle = num3\n",
    "            largest = num1\n",
    "    else:\n",
    "        smallest = num3\n",
    "        if num1 <= num2:\n",
    "            middle = num1\n",
    "            largest = num2\n",
    "        else:\n",
    "            middle = num2\n",
    "            largest = num1\n",
    "\n",
    "    return smallest, middle, largest\n",
    "\n",
    "# Input three numbers\n",
    "num1 = float(input(\"Enter the first number: \"))\n",
    "num2 = float(input(\"Enter the second number: \"))\n",
    "num3 = float(input(\"Enter the third number: \"))\n",
    "\n",
    "# Call the function to sort the numbers\n",
    "sorted_nums = sort_numbers(num1, num2, num3)\n",
    "\n",
    "# Display the sorted numbers\n",
    "print(\"Sorted numbers in ascending order:\", sorted_nums)"
   ]
  },
  {
   "cell_type": "code",
   "execution_count": 83,
   "id": "dd7887d6-8cf8-48db-8269-c1ee38a8698b",
   "metadata": {},
   "outputs": [
    {
     "name": "stdout",
     "output_type": "stream",
     "text": [
      "Root of the quartic equation: 4.074136\n"
     ]
    }
   ],
   "source": [
    "#29. Build a program that determines the roots of a quartic equation using numerical methods\n",
    "import sympy as sp\n",
    "\n",
    "def quartic_equation_roots(coefficients, initial_guess=1.0, tolerance=1e-6, max_iterations=100):\n",
    "    x = sp.symbols('x')\n",
    "    equation = sum(c * x**(4 - i) for i, c in enumerate(coefficients))\n",
    "\n",
    "    # Compute the derivative of the equation\n",
    "    derivative = sp.diff(equation, x)\n",
    "\n",
    "    # Convert the equation and derivative to lambda functions for numerical evaluation\n",
    "    equation_func = sp.lambdify(x, equation)\n",
    "    derivative_func = sp.lambdify(x, derivative)\n",
    "\n",
    "    # Apply Newton-Raphson method\n",
    "    root = initial_guess\n",
    "    iteration = 0\n",
    "\n",
    "    while abs(equation_func(root)) > tolerance and iteration < max_iterations:\n",
    "        root = root - equation_func(root) / derivative_func(root)\n",
    "        iteration += 1\n",
    "\n",
    "    if abs(equation_func(root)) <= tolerance:\n",
    "        return root\n",
    "    else:\n",
    "        return None  # Failed to converge within the specified iterations\n",
    "\n",
    "# Example: Solve the quartic equation x^4 - 7x^3 + 14x^2 - 7x - 6 = 0\n",
    "coefficients = [1, -7, 14, -7, -6]\n",
    "\n",
    "root = quartic_equation_roots(coefficients)\n",
    "\n",
    "if root is not None:\n",
    "    print(f\"Root of the quartic equation: {root:.6f}\")\n",
    "else:\n",
    "    print(\"Failed to converge to a root within the specified iterations.\")"
   ]
  },
  {
   "cell_type": "code",
   "execution_count": 84,
   "id": "d53d0b86-5503-40fb-a7fa-321b46d7f5bf",
   "metadata": {},
   "outputs": [
    {
     "name": "stdin",
     "output_type": "stream",
     "text": [
      "Enter your weight in kilograms:  49.5\n",
      "Enter your height in meters:  1.62\n"
     ]
    },
    {
     "name": "stdout",
     "output_type": "stream",
     "text": [
      "\n",
      "Your BMI is: 18.86\n",
      "BMI Category: Normal weight\n",
      "Recommendation: Maintain a healthy lifestyle with regular exercise and a balanced diet.\n"
     ]
    }
   ],
   "source": [
    "#30. Write a program that calculates the BMI (Body Mass Index) and provides health recommendations based on the user's input.\n",
    "def calculate_bmi(weight, height):\n",
    "    # BMI formula: weight (kg) / (height (m))^2\n",
    "    bmi = weight / (height ** 2)\n",
    "    return bmi\n",
    "\n",
    "def interpret_bmi(bmi):\n",
    "    if bmi < 18.5:\n",
    "        return \"Underweight\"\n",
    "    elif 18.5 <= bmi < 24.9:\n",
    "        return \"Normal weight\"\n",
    "    elif 25 <= bmi < 29.9:\n",
    "        return \"Overweight\"\n",
    "    else:\n",
    "        return \"Obese\"\n",
    "\n",
    "# Input user's weight and height\n",
    "weight = float(input(\"Enter your weight in kilograms: \"))\n",
    "height = float(input(\"Enter your height in meters: \"))\n",
    "\n",
    "# Calculate BMI\n",
    "bmi = calculate_bmi(weight, height)\n",
    "\n",
    "# Interpret BMI and provide health recommendations\n",
    "bmi_category = interpret_bmi(bmi)\n",
    "\n",
    "print(f\"\\nYour BMI is: {bmi:.2f}\")\n",
    "print(f\"BMI Category: {bmi_category}\")\n",
    "\n",
    "# Health recommendations\n",
    "if bmi_category == \"Underweight\":\n",
    "    print(\"Recommendation: Consider consulting with a healthcare professional for advice on gaining weight.\")\n",
    "elif bmi_category == \"Normal weight\":\n",
    "    print(\"Recommendation: Maintain a healthy lifestyle with regular exercise and a balanced diet.\")\n",
    "elif bmi_category == \"Overweight\":\n",
    "    print(\"Recommendation: Consider consulting with a healthcare professional for advice on weight management.\")\n",
    "else:\n",
    "    print(\"Recommendation: Consult with a healthcare professional to discuss weight management strategies.\")"
   ]
  },
  {
   "cell_type": "markdown",
   "id": "20419005-cefd-4c81-ab58-822da56d9c50",
   "metadata": {},
   "source": [
    "Challenge Level:\n",
    "\n"
   ]
  },
  {
   "cell_type": "code",
   "execution_count": 87,
   "id": "60b4cc13-b547-4867-a230-f160623e8c36",
   "metadata": {},
   "outputs": [
    {
     "name": "stdin",
     "output_type": "stream",
     "text": [
      "Enter your password:  A*51ssd4ss\n"
     ]
    },
    {
     "name": "stdout",
     "output_type": "stream",
     "text": [
      "Password is valid.\n"
     ]
    }
   ],
   "source": [
    "#31. Create a program that validates a password based on complexity rules (length, characters, etc.).\n",
    "import re\n",
    "\n",
    "def is_valid_password(password):\n",
    "    # Check length (at least 8 characters)\n",
    "    if len(password) < 8:\n",
    "        return False\n",
    "\n",
    "    # Check for at least one uppercase letter\n",
    "    if not any(char.isupper() for char in password):\n",
    "        return False\n",
    "\n",
    "    # Check for at least one lowercase letter\n",
    "    if not any(char.islower() for char in password):\n",
    "        return False\n",
    "\n",
    "    # Check for at least one digit\n",
    "    if not any(char.isdigit() for char in password):\n",
    "        return False\n",
    "\n",
    "    # Check for at least one special character (using a regular expression)\n",
    "    special_characters = re.compile('[@_!#$%^&*()<>?/\\|}{~:]')\n",
    "    if not special_characters.search(password):\n",
    "        return False\n",
    "\n",
    "    # All checks passed, the password is valid\n",
    "    return True\n",
    "\n",
    "# Input a password from the user\n",
    "password = input(\"Enter your password: \")\n",
    "\n",
    "# Check if the password is valid\n",
    "if is_valid_password(password):\n",
    "    print(\"Password is valid.\")\n",
    "else:\n",
    "    print(\"Password is not valid. Please ensure it meets the complexity rules.\")"
   ]
  },
  {
   "cell_type": "code",
   "execution_count": 89,
   "id": "cc6c708c-afa7-4876-950e-c2db0ebecf0a",
   "metadata": {},
   "outputs": [
    {
     "name": "stdout",
     "output_type": "stream",
     "text": [
      "Input for Matrix A:\n"
     ]
    },
    {
     "name": "stdin",
     "output_type": "stream",
     "text": [
      "Enter the number of rows:  2\n",
      "Enter the number of columns:  1\n",
      "Enter element at position (1,1):  1\n",
      "Enter element at position (2,1):  1\n"
     ]
    },
    {
     "name": "stdout",
     "output_type": "stream",
     "text": [
      "\n",
      "Input for Matrix B:\n"
     ]
    },
    {
     "name": "stdin",
     "output_type": "stream",
     "text": [
      "Enter the number of rows:  2\n",
      "Enter the number of columns:  1\n",
      "Enter element at position (1,1):  1\n",
      "Enter element at position (2,1):  1\n"
     ]
    },
    {
     "name": "stdout",
     "output_type": "stream",
     "text": [
      "\n",
      "Matrix Addition Result:\n",
      "[2.0]\n",
      "[2.0]\n",
      "\n",
      "Matrix Subtraction Result:\n",
      "[0.0]\n",
      "[0.0]\n"
     ]
    }
   ],
   "source": [
    "#32. Develop a program that performs matrix addition and subtraction based on user input.\n",
    "def matrix_addition(matrix_a, matrix_b):\n",
    "    result = []\n",
    "    for i in range(len(matrix_a)):\n",
    "        row = [matrix_a[i][j] + matrix_b[i][j] for j in range(len(matrix_a[i]))]\n",
    "        result.append(row)\n",
    "    return result\n",
    "\n",
    "def matrix_subtraction(matrix_a, matrix_b):\n",
    "    result = []\n",
    "    for i in range(len(matrix_a)):\n",
    "        row = [matrix_a[i][j] - matrix_b[i][j] for j in range(len(matrix_a[i]))]\n",
    "        result.append(row)\n",
    "    return result\n",
    "\n",
    "def input_matrix():\n",
    "    rows = int(input(\"Enter the number of rows: \"))\n",
    "    cols = int(input(\"Enter the number of columns: \"))\n",
    "    \n",
    "    matrix = []\n",
    "    for i in range(rows):\n",
    "        row = []\n",
    "        for j in range(cols):\n",
    "            element = float(input(f\"Enter element at position ({i+1},{j+1}): \"))\n",
    "            row.append(element)\n",
    "        matrix.append(row)\n",
    "    \n",
    "    return matrix\n",
    "\n",
    "def display_matrix(matrix, label):\n",
    "    print(f\"\\n{label}:\")\n",
    "    for row in matrix:\n",
    "        print(row)\n",
    "\n",
    "# Input matrices from the user\n",
    "print(\"Input for Matrix A:\")\n",
    "matrix_a = input_matrix()\n",
    "\n",
    "print(\"\\nInput for Matrix B:\")\n",
    "matrix_b = input_matrix()\n",
    "\n",
    "# Perform matrix addition\n",
    "result_addition = matrix_addition(matrix_a, matrix_b)\n",
    "display_matrix(result_addition, \"Matrix Addition Result\")\n",
    "\n",
    "# Perform matrix subtraction\n",
    "result_subtraction = matrix_subtraction(matrix_a, matrix_b)\n",
    "display_matrix(result_subtraction, \"Matrix Subtraction Result\")"
   ]
  },
  {
   "cell_type": "code",
   "execution_count": 91,
   "id": "259d6af1-bb87-4679-91f2-54de2e9d6fe7",
   "metadata": {},
   "outputs": [
    {
     "name": "stdin",
     "output_type": "stream",
     "text": [
      "Enter the first number:  25\n",
      "Enter the second number:  5\n"
     ]
    },
    {
     "name": "stdout",
     "output_type": "stream",
     "text": [
      "The Greatest Common Divisor (GCD) of 25 and 5 is: 5\n"
     ]
    }
   ],
   "source": [
    "#33. Write a program that calculates the greatest common divisor (GCD) of two numbers using the Euclidean algorithm\n",
    "def euclidean_gcd(a, b):\n",
    "    while b != 0:\n",
    "        a, b = b, a % b\n",
    "    return a\n",
    "\n",
    "# Input two numbers from the user\n",
    "num1 = int(input(\"Enter the first number: \"))\n",
    "num2 = int(input(\"Enter the second number: \"))\n",
    "\n",
    "# Calculate the GCD using the Euclidean algorithm\n",
    "gcd = euclidean_gcd(num1, num2)\n",
    "\n",
    "# Display the result\n",
    "print(f\"The Greatest Common Divisor (GCD) of {num1} and {num2} is: {gcd}\")"
   ]
  },
  {
   "cell_type": "code",
   "execution_count": 92,
   "id": "1dc16072-eac5-4f88-aa8c-07b046050114",
   "metadata": {},
   "outputs": [
    {
     "name": "stdout",
     "output_type": "stream",
     "text": [
      "Input for Matrix A:\n"
     ]
    },
    {
     "name": "stdin",
     "output_type": "stream",
     "text": [
      "Enter the number of rows:  2\n",
      "Enter the number of columns:  2\n",
      "Enter element at position (1,1):  1\n",
      "Enter element at position (1,2):  2\n",
      "Enter element at position (2,1):  3\n",
      "Enter element at position (2,2):  1\n"
     ]
    },
    {
     "name": "stdout",
     "output_type": "stream",
     "text": [
      "\n",
      "Input for Matrix B:\n"
     ]
    },
    {
     "name": "stdin",
     "output_type": "stream",
     "text": [
      "Enter the number of rows:  2\n",
      "Enter the number of columns:  1\n",
      "Enter element at position (1,1):  2\n",
      "Enter element at position (2,1):  3\n"
     ]
    },
    {
     "name": "stdout",
     "output_type": "stream",
     "text": [
      "\n",
      "Matrix Multiplication Result:\n",
      "[8.0]\n",
      "[9.0]\n"
     ]
    }
   ],
   "source": [
    "#34. Build a program that performs matrix multiplication using nested loops and conditional statements.\n",
    "def matrix_multiplication(matrix_a, matrix_b):\n",
    "    rows_a = len(matrix_a)\n",
    "    cols_a = len(matrix_a[0])\n",
    "    rows_b = len(matrix_b)\n",
    "    cols_b = len(matrix_b[0])\n",
    "\n",
    "    # Check if matrices can be multiplied\n",
    "    if cols_a != rows_b:\n",
    "        print(\"Error: Matrices cannot be multiplied. Number of columns in Matrix A must be equal to the number of rows in Matrix B.\")\n",
    "        return None\n",
    "\n",
    "    # Initialize the result matrix with zeros\n",
    "    result = [[0 for _ in range(cols_b)] for _ in range(rows_a)]\n",
    "\n",
    "    # Perform matrix multiplication\n",
    "    for i in range(rows_a):\n",
    "        for j in range(cols_b):\n",
    "            for k in range(cols_a):  # or rows_b, since cols_a == rows_b\n",
    "                result[i][j] += matrix_a[i][k] * matrix_b[k][j]\n",
    "\n",
    "    return result\n",
    "\n",
    "def input_matrix():\n",
    "    rows = int(input(\"Enter the number of rows: \"))\n",
    "    cols = int(input(\"Enter the number of columns: \"))\n",
    "    \n",
    "    matrix = []\n",
    "    for i in range(rows):\n",
    "        row = []\n",
    "        for j in range(cols):\n",
    "            element = float(input(f\"Enter element at position ({i+1},{j+1}): \"))\n",
    "            row.append(element)\n",
    "        matrix.append(row)\n",
    "    \n",
    "    return matrix\n",
    "\n",
    "def display_matrix(matrix, label):\n",
    "    print(f\"\\n{label}:\")\n",
    "    for row in matrix:\n",
    "        print(row)\n",
    "\n",
    "# Input matrices from the user\n",
    "print(\"Input for Matrix A:\")\n",
    "matrix_a = input_matrix()\n",
    "\n",
    "print(\"\\nInput for Matrix B:\")\n",
    "matrix_b = input_matrix()\n",
    "\n",
    "# Perform matrix multiplication\n",
    "result_multiplication = matrix_multiplication(matrix_a, matrix_b)\n",
    "\n",
    "# Display the result\n",
    "if result_multiplication is not None:\n",
    "    display_matrix(result_multiplication, \"Matrix Multiplication Result\")"
   ]
  },
  {
   "cell_type": "code",
   "execution_count": 93,
   "id": "8d30e304-e718-4bbf-ab07-28bf55ee1e7a",
   "metadata": {},
   "outputs": [
    {
     "name": "stdout",
     "output_type": "stream",
     "text": [
      "Welcome to Tic-Tac-Toe!\n",
      "  |   |  \n",
      "-------------\n",
      "  |   |  \n",
      "-------------\n",
      "  |   |  \n",
      "-------------\n"
     ]
    },
    {
     "name": "stdin",
     "output_type": "stream",
     "text": [
      "Enter the row (1, 2, or 3):  1\n",
      "Enter the column (1, 2, or 3):  2\n"
     ]
    },
    {
     "name": "stdout",
     "output_type": "stream",
     "text": [
      "  | X |  \n",
      "-------------\n",
      "  |   |  \n",
      "-------------\n",
      "  |   |  \n",
      "-------------\n",
      "Computer's move:\n",
      "  | X |  \n",
      "-------------\n",
      "  |   | O\n",
      "-------------\n",
      "  |   |  \n",
      "-------------\n"
     ]
    },
    {
     "name": "stdin",
     "output_type": "stream",
     "text": [
      "Enter the row (1, 2, or 3):  1\n",
      "Enter the column (1, 2, or 3):  1\n"
     ]
    },
    {
     "name": "stdout",
     "output_type": "stream",
     "text": [
      "X | X |  \n",
      "-------------\n",
      "  |   | O\n",
      "-------------\n",
      "  |   |  \n",
      "-------------\n",
      "Computer's move:\n",
      "X | X |  \n",
      "-------------\n",
      "  |   | O\n",
      "-------------\n",
      "  | O |  \n",
      "-------------\n"
     ]
    },
    {
     "name": "stdin",
     "output_type": "stream",
     "text": [
      "Enter the row (1, 2, or 3):  3\n",
      "Enter the column (1, 2, or 3):  3\n"
     ]
    },
    {
     "name": "stdout",
     "output_type": "stream",
     "text": [
      "X | X |  \n",
      "-------------\n",
      "  |   | O\n",
      "-------------\n",
      "  | O | X\n",
      "-------------\n",
      "Computer's move:\n",
      "X | X |  \n",
      "-------------\n",
      "  | O | O\n",
      "-------------\n",
      "  | O | X\n",
      "-------------\n"
     ]
    },
    {
     "name": "stdin",
     "output_type": "stream",
     "text": [
      "Enter the row (1, 2, or 3):  1\n",
      "Enter the column (1, 2, or 3):  3\n"
     ]
    },
    {
     "name": "stdout",
     "output_type": "stream",
     "text": [
      "X | X | X\n",
      "-------------\n",
      "  | O | O\n",
      "-------------\n",
      "  | O | X\n",
      "-------------\n",
      "X wins!\n"
     ]
    }
   ],
   "source": [
    "#35. Create a program that simulates a basic text-based tic-tac-toe game against the computer.\n",
    "import random\n",
    "\n",
    "def print_board(board):\n",
    "    for row in board:\n",
    "        print(\" | \".join(row))\n",
    "        print(\"-\" * 13)\n",
    "\n",
    "def is_winner(board, player):\n",
    "    # Check rows, columns, and diagonals\n",
    "    for i in range(3):\n",
    "        if all(board[i][j] == player for j in range(3)) or all(board[j][i] == player for j in range(3)):\n",
    "            return True\n",
    "    if all(board[i][i] == player for i in range(3)) or all(board[i][2 - i] == player for i in range(3)):\n",
    "        return True\n",
    "    return False\n",
    "\n",
    "def is_board_full(board):\n",
    "    return all(board[i][j] != \" \" for i in range(3) for j in range(3))\n",
    "\n",
    "def get_empty_cells(board):\n",
    "    return [(i, j) for i in range(3) for j in range(3) if board[i][j] == \" \"]\n",
    "\n",
    "def player_move(board):\n",
    "    while True:\n",
    "        try:\n",
    "            row = int(input(\"Enter the row (1, 2, or 3): \")) - 1\n",
    "            col = int(input(\"Enter the column (1, 2, or 3): \")) - 1\n",
    "\n",
    "            if 0 <= row < 3 and 0 <= col < 3 and board[row][col] == \" \":\n",
    "                return row, col\n",
    "            else:\n",
    "                print(\"Invalid move. Please choose an empty cell.\")\n",
    "        except ValueError:\n",
    "            print(\"Invalid input. Please enter a number.\")\n",
    "\n",
    "def computer_move(board):\n",
    "    empty_cells = get_empty_cells(board)\n",
    "    return random.choice(empty_cells)\n",
    "\n",
    "def main():\n",
    "    board = [[\" \" for _ in range(3)] for _ in range(3)]\n",
    "    current_player = \"X\"\n",
    "\n",
    "    print(\"Welcome to Tic-Tac-Toe!\")\n",
    "\n",
    "    while True:\n",
    "        print_board(board)\n",
    "\n",
    "        if current_player == \"X\":\n",
    "            row, col = player_move(board)\n",
    "        else:\n",
    "            print(\"Computer's move:\")\n",
    "            row, col = computer_move(board)\n",
    "\n",
    "        board[row][col] = current_player\n",
    "\n",
    "        if is_winner(board, current_player):\n",
    "            print_board(board)\n",
    "            print(f\"{current_player} wins!\")\n",
    "            break\n",
    "        elif is_board_full(board):\n",
    "            print_board(board)\n",
    "            print(\"It's a tie!\")\n",
    "            break\n",
    "\n",
    "        current_player = \"O\" if current_player == \"X\" else \"X\"\n",
    "\n",
    "if __name__ == \"__main__\":\n",
    "    main()"
   ]
  },
  {
   "cell_type": "code",
   "execution_count": 94,
   "id": "8419a499-0a67-45f4-9e66-28dd2c82321d",
   "metadata": {},
   "outputs": [
    {
     "name": "stdin",
     "output_type": "stream",
     "text": [
      "Enter the number of Fibonacci terms to generate:  10\n"
     ]
    },
    {
     "name": "stdout",
     "output_type": "stream",
     "text": [
      "\n",
      "Fibonacci sequence up to 10 terms: [0, 1, 1, 2, 3, 5, 8, 13, 21, 34]\n"
     ]
    }
   ],
   "source": [
    "#36. Write a program that generates Fibonacci numbers up to a specified term using iterative methods.\n",
    "def generate_fibonacci(n):\n",
    "    fibonacci_sequence = [0, 1]\n",
    "\n",
    "    for i in range(2, n):\n",
    "        next_term = fibonacci_sequence[-1] + fibonacci_sequence[-2]\n",
    "        fibonacci_sequence.append(next_term)\n",
    "\n",
    "    return fibonacci_sequence\n",
    "\n",
    "# Input the number of terms\n",
    "n_terms = int(input(\"Enter the number of Fibonacci terms to generate: \"))\n",
    "\n",
    "# Generate and display Fibonacci sequence\n",
    "fibonacci_sequence = generate_fibonacci(n_terms)\n",
    "print(f\"\\nFibonacci sequence up to {n_terms} terms: {fibonacci_sequence}\")"
   ]
  },
  {
   "cell_type": "code",
   "execution_count": 95,
   "id": "79411f28-90aa-4652-9e29-aa13aac04f51",
   "metadata": {},
   "outputs": [
    {
     "name": "stdin",
     "output_type": "stream",
     "text": [
      "Enter the value of n for the nth term of the Fibonacci sequence:  10\n"
     ]
    },
    {
     "name": "stdout",
     "output_type": "stream",
     "text": [
      "\n",
      "The 10th term of the Fibonacci sequence is: 55\n"
     ]
    }
   ],
   "source": [
    "#37. Develop a program that calculates the nth term of the Fibonacci sequence using memoization.\n",
    "def fibonacci_with_memoization(n, memo={}):\n",
    "    if n in memo:\n",
    "        return memo[n]\n",
    "\n",
    "    if n <= 1:\n",
    "        return n\n",
    "\n",
    "    result = fibonacci_with_memoization(n - 1, memo) + fibonacci_with_memoization(n - 2, memo)\n",
    "    memo[n] = result\n",
    "    return result\n",
    "\n",
    "# Input the value of n for the nth term\n",
    "n = int(input(\"Enter the value of n for the nth term of the Fibonacci sequence: \"))\n",
    "\n",
    "# Calculate and display the nth term using memoization\n",
    "result = fibonacci_with_memoization(n)\n",
    "print(f\"\\nThe {n}th term of the Fibonacci sequence is: {result}\")"
   ]
  },
  {
   "cell_type": "code",
   "execution_count": 1,
   "id": "f91d3a8e-08de-4371-91f8-b9faca542350",
   "metadata": {},
   "outputs": [
    {
     "name": "stdin",
     "output_type": "stream",
     "text": [
      "Enter the year:  2024\n",
      "Enter the month (1-12):  1\n"
     ]
    },
    {
     "name": "stdout",
     "output_type": "stream",
     "text": [
      "\n",
      "============================\n",
      "January 2024\n",
      "============================\n",
      "Mon Tue Wed Thu Fri Sat Sun\n",
      "  1   2   3   4   5   6   7 \n",
      "  8   9  10  11  12  13  14 \n",
      " 15  16  17  18  19  20  21 \n",
      " 22  23  24  25  26  27  28 \n",
      " 29  30  31                 \n",
      "                            \n"
     ]
    }
   ],
   "source": [
    "#38. Create a program that generates a calendar for a given month and year using conditional statements.\n",
    "import calendar\n",
    "\n",
    "def generate_calendar(year, month):\n",
    "    # Determine the day of the week on which the month starts\n",
    "    first_day_of_month = calendar.weekday(year, month, 1)\n",
    "\n",
    "    # Get the number of days in the month\n",
    "    num_days_in_month = calendar.monthrange(year, month)[1]\n",
    "\n",
    "    # Print the calendar header\n",
    "    print(f\"\\n{'='*28}\")\n",
    "    print(f\"{calendar.month_name[month]} {year}\")\n",
    "    print(f\"{'='*28}\")\n",
    "    print(\"Mon Tue Wed Thu Fri Sat Sun\")\n",
    "\n",
    "    # Print the calendar body\n",
    "    day_counter = 1\n",
    "    for _ in range(6):\n",
    "        for i in range(7):\n",
    "            if i >= first_day_of_month and day_counter <= num_days_in_month:\n",
    "                print(f\"{day_counter:3}\", end=\" \")\n",
    "                day_counter += 1\n",
    "            else:\n",
    "                print(\"   \", end=\" \")\n",
    "        print()\n",
    "\n",
    "# Input the year and month\n",
    "year = int(input(\"Enter the year: \"))\n",
    "month = int(input(\"Enter the month (1-12): \"))\n",
    "\n",
    "# Check if the input month is valid\n",
    "if 1 <= month <= 12:\n",
    "    generate_calendar(year, month)\n",
    "else:\n",
    "    print(\"Invalid month. Please enter a number between 1 and 12.\")"
   ]
  },
  {
   "cell_type": "code",
   "execution_count": 2,
   "id": "6c571b1b-1310-485a-a00a-288d11167438",
   "metadata": {},
   "outputs": [
    {
     "name": "stdout",
     "output_type": "stream",
     "text": [
      "Welcome to Blackjack!\n",
      "Your cards: [10, 10], current score: 20\n",
      "Computer's first card: 7\n"
     ]
    },
    {
     "name": "stdin",
     "output_type": "stream",
     "text": [
      "Type 'y' to get another card, 'n' to pass:  y\n"
     ]
    },
    {
     "name": "stdout",
     "output_type": "stream",
     "text": [
      "Your cards: [10, 10, 1], current score: 21\n",
      "Computer's first card: 7\n"
     ]
    },
    {
     "name": "stdin",
     "output_type": "stream",
     "text": [
      "Type 'y' to get another card, 'n' to pass:  n\n"
     ]
    },
    {
     "name": "stdout",
     "output_type": "stream",
     "text": [
      "Your final hand: [10, 10, 1], final score: 21\n",
      "Computer's final hand: [7, 10], final score: 17\n",
      "You win!\n"
     ]
    }
   ],
   "source": [
    "#39. Build a program that simulates a basic text-based blackjack game against the computer.\n",
    "import random\n",
    "\n",
    "def deal_card():\n",
    "    \"\"\"Deal a random card from the deck.\"\"\"\n",
    "    cards = [2, 3, 4, 5, 6, 7, 8, 9, 10, 10, 10, 10, 11]  # 11 represents Ace\n",
    "    return random.choice(cards)\n",
    "\n",
    "def calculate_score(cards):\n",
    "    \"\"\"Calculate the score of a given hand.\"\"\"\n",
    "    if sum(cards) == 21 and len(cards) == 2:\n",
    "        return 0  # Blackjack\n",
    "    if 11 in cards and sum(cards) > 21:\n",
    "        cards.remove(11)\n",
    "        cards.append(1)  # Change Ace value from 11 to 1\n",
    "    return sum(cards)\n",
    "\n",
    "def compare(user_score, computer_score):\n",
    "    \"\"\"Compare the user's score with the computer's score and determine the winner.\"\"\"\n",
    "    if user_score == computer_score:\n",
    "        return \"It's a draw!\"\n",
    "    elif computer_score == 0:\n",
    "        return \"Computer has Blackjack. You lose!\"\n",
    "    elif user_score == 0:\n",
    "        return \"Blackjack! You win!\"\n",
    "    elif user_score > 21:\n",
    "        return \"You went over 21. You lose!\"\n",
    "    elif computer_score > 21:\n",
    "        return \"Computer went over 21. You win!\"\n",
    "    elif user_score > computer_score:\n",
    "        return \"You win!\"\n",
    "    else:\n",
    "        return \"You lose!\"\n",
    "\n",
    "def play_game():\n",
    "    print(\"Welcome to Blackjack!\")\n",
    "\n",
    "    # Deal initial cards\n",
    "    user_cards = [deal_card(), deal_card()]\n",
    "    computer_cards = [deal_card(), deal_card()]\n",
    "\n",
    "    game_over = False\n",
    "\n",
    "    while not game_over:\n",
    "        # Calculate scores\n",
    "        user_score = calculate_score(user_cards)\n",
    "        computer_score = calculate_score(computer_cards)\n",
    "\n",
    "        print(f\"Your cards: {user_cards}, current score: {user_score}\")\n",
    "        print(f\"Computer's first card: {computer_cards[0]}\")\n",
    "\n",
    "        # Check if someone has Blackjack or went over 21\n",
    "        if user_score == 0 or computer_score == 0 or user_score > 21:\n",
    "            game_over = True\n",
    "        else:\n",
    "            # Ask the user if they want to draw another card\n",
    "            user_should_draw = input(\"Type 'y' to get another card, 'n' to pass: \").lower()\n",
    "            if user_should_draw == 'y':\n",
    "                user_cards.append(deal_card())\n",
    "            else:\n",
    "                game_over = True\n",
    "\n",
    "    # Let the computer draw cards\n",
    "    while computer_score != 0 and computer_score < 17:\n",
    "        computer_cards.append(deal_card())\n",
    "        computer_score = calculate_score(computer_cards)\n",
    "\n",
    "    print(f\"Your final hand: {user_cards}, final score: {user_score}\")\n",
    "    print(f\"Computer's final hand: {computer_cards}, final score: {computer_score}\")\n",
    "\n",
    "    # Compare the scores and determine the winner\n",
    "    print(compare(user_score, computer_score))\n",
    "\n",
    "# Start the game\n",
    "play_game()"
   ]
  },
  {
   "cell_type": "code",
   "execution_count": 3,
   "id": "f4a84ca5-1ed9-48bf-9a6d-2880e4b182b9",
   "metadata": {},
   "outputs": [
    {
     "name": "stdin",
     "output_type": "stream",
     "text": [
      "Enter a positive integer:  44\n"
     ]
    },
    {
     "name": "stdout",
     "output_type": "stream",
     "text": [
      "Prime factors of 44: [2, 2, 11]\n"
     ]
    }
   ],
   "source": [
    "#.40. Write a program that generates the prime factors of a given number using trial division.\n",
    "def generate_prime_factors(number):\n",
    "    prime_factors = []\n",
    "\n",
    "    # Check for 2 as a factor\n",
    "    while number % 2 == 0:\n",
    "        prime_factors.append(2)\n",
    "        number = number // 2\n",
    "\n",
    "    # Check for odd factors starting from 3\n",
    "    for i in range(3, int(number**0.5) + 1, 2):\n",
    "        while number % i == 0:\n",
    "            prime_factors.append(i)\n",
    "            number = number // i\n",
    "\n",
    "    # If the remaining number is a prime greater than 2\n",
    "    if number > 2:\n",
    "        prime_factors.append(number)\n",
    "\n",
    "    return prime_factors\n",
    "\n",
    "# Input the number from the user\n",
    "number = int(input(\"Enter a positive integer: \"))\n",
    "\n",
    "# Check if the input number is greater than 1\n",
    "if number > 1:\n",
    "    prime_factors = generate_prime_factors(number)\n",
    "    print(f\"Prime factors of {number}: {prime_factors}\")\n",
    "else:\n",
    "    print(\"The input number should be greater than 1.\")"
   ]
  },
  {
   "cell_type": "code",
   "execution_count": null,
   "id": "97910bad-6714-4cd3-b093-cf46d01476d1",
   "metadata": {},
   "outputs": [],
   "source": []
  }
 ],
 "metadata": {
  "kernelspec": {
   "display_name": "Python 3 (ipykernel)",
   "language": "python",
   "name": "python3"
  },
  "language_info": {
   "codemirror_mode": {
    "name": "ipython",
    "version": 3
   },
   "file_extension": ".py",
   "mimetype": "text/x-python",
   "name": "python",
   "nbconvert_exporter": "python",
   "pygments_lexer": "ipython3",
   "version": "3.10.8"
  }
 },
 "nbformat": 4,
 "nbformat_minor": 5
}
